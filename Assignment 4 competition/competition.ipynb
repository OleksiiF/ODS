{
 "cells": [
  {
   "cell_type": "code",
   "execution_count": 2,
   "outputs": [],
   "source": [
    "import warnings\n",
    "import pandas as pd\n",
    "import pickle\n",
    "import numpy as np\n",
    "from sklearn.feature_extraction.text import CountVectorizer\n",
    "from sklearn.linear_model import LogisticRegression\n",
    "from sklearn.metrics import (\n",
    "    roc_auc_score,\n",
    ")\n",
    "from sklearn.model_selection import GridSearchCV\n",
    "\n",
    "warnings.filterwarnings('ignore')"
   ],
   "metadata": {
    "collapsed": false,
    "pycharm": {
     "name": "#%%\n",
     "is_executing": false
    }
   }
  },
  {
   "cell_type": "code",
   "execution_count": 3,
   "outputs": [
    {
     "data": {
      "text/plain": "            site1               time1  site2                time2  site3  \\\nsession_id                                                                 \n21669          56 2013-01-12 08:05:57   55.0  2013-01-12 08:05:57    NaN   \n54843          56 2013-01-12 08:37:23   55.0  2013-01-12 08:37:23   56.0   \n77292         946 2013-01-12 08:50:13  946.0  2013-01-12 08:50:14  951.0   \n114021        945 2013-01-12 08:50:17  948.0  2013-01-12 08:50:17  949.0   \n146670        947 2013-01-12 08:50:20  950.0  2013-01-12 08:50:20  948.0   \n\n                          time3  site4                time4  site5  \\\nsession_id                                                           \n21669                       NaN    NaN                  NaN    NaN   \n54843       2013-01-12 09:07:07   55.0  2013-01-12 09:07:09    NaN   \n77292       2013-01-12 08:50:15  946.0  2013-01-12 08:50:15  946.0   \n114021      2013-01-12 08:50:18  948.0  2013-01-12 08:50:18  945.0   \n146670      2013-01-12 08:50:20  947.0  2013-01-12 08:50:21  950.0   \n\n                          time5  ...                time6  site7  \\\nsession_id                       ...                               \n21669                       NaN  ...                  NaN    NaN   \n54843                       NaN  ...                  NaN    NaN   \n77292       2013-01-12 08:50:16  ...  2013-01-12 08:50:16  948.0   \n114021      2013-01-12 08:50:18  ...  2013-01-12 08:50:18  947.0   \n146670      2013-01-12 08:50:21  ...  2013-01-12 08:50:21  946.0   \n\n                          time7  site8                time8  site9  \\\nsession_id                                                           \n21669                       NaN    NaN                  NaN    NaN   \n54843                       NaN    NaN                  NaN    NaN   \n77292       2013-01-12 08:50:16  784.0  2013-01-12 08:50:16  949.0   \n114021      2013-01-12 08:50:19  945.0  2013-01-12 08:50:19  946.0   \n146670      2013-01-12 08:50:21  951.0  2013-01-12 08:50:22  946.0   \n\n                          time9 site10               time10 target  \nsession_id                                                          \n21669                       NaN    NaN                  NaN      0  \n54843                       NaN    NaN                  NaN      0  \n77292       2013-01-12 08:50:17  946.0  2013-01-12 08:50:17      0  \n114021      2013-01-12 08:50:19  946.0  2013-01-12 08:50:20      0  \n146670      2013-01-12 08:50:22  947.0  2013-01-12 08:50:22      0  \n\n[5 rows x 21 columns]",
      "text/html": "<div>\n<style scoped>\n    .dataframe tbody tr th:only-of-type {\n        vertical-align: middle;\n    }\n\n    .dataframe tbody tr th {\n        vertical-align: top;\n    }\n\n    .dataframe thead th {\n        text-align: right;\n    }\n</style>\n<table border=\"1\" class=\"dataframe\">\n  <thead>\n    <tr style=\"text-align: right;\">\n      <th></th>\n      <th>site1</th>\n      <th>time1</th>\n      <th>site2</th>\n      <th>time2</th>\n      <th>site3</th>\n      <th>time3</th>\n      <th>site4</th>\n      <th>time4</th>\n      <th>site5</th>\n      <th>time5</th>\n      <th>...</th>\n      <th>time6</th>\n      <th>site7</th>\n      <th>time7</th>\n      <th>site8</th>\n      <th>time8</th>\n      <th>site9</th>\n      <th>time9</th>\n      <th>site10</th>\n      <th>time10</th>\n      <th>target</th>\n    </tr>\n    <tr>\n      <th>session_id</th>\n      <th></th>\n      <th></th>\n      <th></th>\n      <th></th>\n      <th></th>\n      <th></th>\n      <th></th>\n      <th></th>\n      <th></th>\n      <th></th>\n      <th></th>\n      <th></th>\n      <th></th>\n      <th></th>\n      <th></th>\n      <th></th>\n      <th></th>\n      <th></th>\n      <th></th>\n      <th></th>\n      <th></th>\n    </tr>\n  </thead>\n  <tbody>\n    <tr>\n      <th>21669</th>\n      <td>56</td>\n      <td>2013-01-12 08:05:57</td>\n      <td>55.0</td>\n      <td>2013-01-12 08:05:57</td>\n      <td>NaN</td>\n      <td>NaN</td>\n      <td>NaN</td>\n      <td>NaN</td>\n      <td>NaN</td>\n      <td>NaN</td>\n      <td>...</td>\n      <td>NaN</td>\n      <td>NaN</td>\n      <td>NaN</td>\n      <td>NaN</td>\n      <td>NaN</td>\n      <td>NaN</td>\n      <td>NaN</td>\n      <td>NaN</td>\n      <td>NaN</td>\n      <td>0</td>\n    </tr>\n    <tr>\n      <th>54843</th>\n      <td>56</td>\n      <td>2013-01-12 08:37:23</td>\n      <td>55.0</td>\n      <td>2013-01-12 08:37:23</td>\n      <td>56.0</td>\n      <td>2013-01-12 09:07:07</td>\n      <td>55.0</td>\n      <td>2013-01-12 09:07:09</td>\n      <td>NaN</td>\n      <td>NaN</td>\n      <td>...</td>\n      <td>NaN</td>\n      <td>NaN</td>\n      <td>NaN</td>\n      <td>NaN</td>\n      <td>NaN</td>\n      <td>NaN</td>\n      <td>NaN</td>\n      <td>NaN</td>\n      <td>NaN</td>\n      <td>0</td>\n    </tr>\n    <tr>\n      <th>77292</th>\n      <td>946</td>\n      <td>2013-01-12 08:50:13</td>\n      <td>946.0</td>\n      <td>2013-01-12 08:50:14</td>\n      <td>951.0</td>\n      <td>2013-01-12 08:50:15</td>\n      <td>946.0</td>\n      <td>2013-01-12 08:50:15</td>\n      <td>946.0</td>\n      <td>2013-01-12 08:50:16</td>\n      <td>...</td>\n      <td>2013-01-12 08:50:16</td>\n      <td>948.0</td>\n      <td>2013-01-12 08:50:16</td>\n      <td>784.0</td>\n      <td>2013-01-12 08:50:16</td>\n      <td>949.0</td>\n      <td>2013-01-12 08:50:17</td>\n      <td>946.0</td>\n      <td>2013-01-12 08:50:17</td>\n      <td>0</td>\n    </tr>\n    <tr>\n      <th>114021</th>\n      <td>945</td>\n      <td>2013-01-12 08:50:17</td>\n      <td>948.0</td>\n      <td>2013-01-12 08:50:17</td>\n      <td>949.0</td>\n      <td>2013-01-12 08:50:18</td>\n      <td>948.0</td>\n      <td>2013-01-12 08:50:18</td>\n      <td>945.0</td>\n      <td>2013-01-12 08:50:18</td>\n      <td>...</td>\n      <td>2013-01-12 08:50:18</td>\n      <td>947.0</td>\n      <td>2013-01-12 08:50:19</td>\n      <td>945.0</td>\n      <td>2013-01-12 08:50:19</td>\n      <td>946.0</td>\n      <td>2013-01-12 08:50:19</td>\n      <td>946.0</td>\n      <td>2013-01-12 08:50:20</td>\n      <td>0</td>\n    </tr>\n    <tr>\n      <th>146670</th>\n      <td>947</td>\n      <td>2013-01-12 08:50:20</td>\n      <td>950.0</td>\n      <td>2013-01-12 08:50:20</td>\n      <td>948.0</td>\n      <td>2013-01-12 08:50:20</td>\n      <td>947.0</td>\n      <td>2013-01-12 08:50:21</td>\n      <td>950.0</td>\n      <td>2013-01-12 08:50:21</td>\n      <td>...</td>\n      <td>2013-01-12 08:50:21</td>\n      <td>946.0</td>\n      <td>2013-01-12 08:50:21</td>\n      <td>951.0</td>\n      <td>2013-01-12 08:50:22</td>\n      <td>946.0</td>\n      <td>2013-01-12 08:50:22</td>\n      <td>947.0</td>\n      <td>2013-01-12 08:50:22</td>\n      <td>0</td>\n    </tr>\n  </tbody>\n</table>\n<p>5 rows × 21 columns</p>\n</div>"
     },
     "metadata": {},
     "output_type": "execute_result",
     "execution_count": 3
    }
   ],
   "source": [
    "train_df = pd.read_csv(\n",
    "    'train_sessions.csv',\n",
    "    index_col='session_id',\n",
    "    parse_dates=['time1']\n",
    ")\n",
    "test_df = pd.read_csv(\n",
    "    'test_sessions.csv',\n",
    "    index_col='session_id',\n",
    "    parse_dates=['time1']\n",
    ")\n",
    "# Sort the data by time\n",
    "train_df = train_df.sort_values(by='time1')\n",
    "\n",
    "# Look at the first rows of the training set\n",
    "train_df.head()"
   ],
   "metadata": {
    "collapsed": false,
    "pycharm": {
     "name": "#%%\n",
     "is_executing": false
    }
   }
  },
  {
   "cell_type": "code",
   "execution_count": 4,
   "outputs": [
    {
     "name": "stdout",
     "text": [
      "Websites total: 48371\n"
     ],
     "output_type": "stream"
    },
    {
     "data": {
      "text/plain": "                                     site\n25075              www.abmecatronique.com\n13997                     groups.live.com\n42436  majeureliguefootball.wordpress.com\n30911           cdt46.media.tourinsoft.eu\n8104                  www.hdwallpapers.eu",
      "text/html": "<div>\n<style scoped>\n    .dataframe tbody tr th:only-of-type {\n        vertical-align: middle;\n    }\n\n    .dataframe tbody tr th {\n        vertical-align: top;\n    }\n\n    .dataframe thead th {\n        text-align: right;\n    }\n</style>\n<table border=\"1\" class=\"dataframe\">\n  <thead>\n    <tr style=\"text-align: right;\">\n      <th></th>\n      <th>site</th>\n    </tr>\n  </thead>\n  <tbody>\n    <tr>\n      <th>25075</th>\n      <td>www.abmecatronique.com</td>\n    </tr>\n    <tr>\n      <th>13997</th>\n      <td>groups.live.com</td>\n    </tr>\n    <tr>\n      <th>42436</th>\n      <td>majeureliguefootball.wordpress.com</td>\n    </tr>\n    <tr>\n      <th>30911</th>\n      <td>cdt46.media.tourinsoft.eu</td>\n    </tr>\n    <tr>\n      <th>8104</th>\n      <td>www.hdwallpapers.eu</td>\n    </tr>\n  </tbody>\n</table>\n</div>"
     },
     "metadata": {},
     "output_type": "execute_result",
     "execution_count": 4
    }
   ],
   "source": [
    "# Change site1, ..., site10 columns type to integer and fill NA-values with zeros\n",
    "sites = ['site%s' % i for i in range(1, 11)]\n",
    "train_df[sites] = train_df[sites].fillna(0).astype('int')\n",
    "test_df[sites] = test_df[sites].fillna(0).astype('int')\n",
    "\n",
    "# Load websites dictionary\n",
    "with open(r\"site_dic.pkl\", \"rb\") as input_file:\n",
    "    site_dict = pickle.load(input_file)\n",
    "\n",
    "# Create dataframe for the dictionary\n",
    "sites_dict = pd.DataFrame(\n",
    "    list(site_dict.keys()),\n",
    "    index=list(site_dict.values()),\n",
    "    columns=['site']\n",
    ")\n",
    "print(u'Websites total:', sites_dict.shape[0])\n",
    "sites_dict.head()"
   ],
   "metadata": {
    "collapsed": false,
    "pycharm": {
     "name": "#%%\n",
     "is_executing": false
    }
   }
  },
  {
   "cell_type": "code",
   "execution_count": 5,
   "outputs": [
    {
     "name": "stdout",
     "text": [
      "(82797, 20) (253561, 21)\n"
     ],
     "output_type": "stream"
    }
   ],
   "source": [
    "print(test_df.shape, train_df.shape)\n"
   ],
   "metadata": {
    "collapsed": false,
    "pycharm": {
     "name": "#%%\n",
     "is_executing": false
    }
   }
  },
  {
   "cell_type": "code",
   "execution_count": 6,
   "outputs": [],
   "source": [
    "y_train = train_df['target'].values\n",
    "\n",
    "# United dataframe of the initial data \n",
    "full_df = pd.concat(\n",
    "    [train_df.drop('target', axis=1), test_df]\n",
    ")\n",
    "# Index to split the training and test data sets\n",
    "idx_split = train_df.shape[0]"
   ],
   "metadata": {
    "collapsed": false,
    "pycharm": {
     "name": "#%%\n",
     "is_executing": false
    }
   }
  },
  {
   "cell_type": "code",
   "execution_count": 7,
   "outputs": [],
   "source": [
    "train_df[sites].fillna(0).to_csv('train_sessions_text.txt', \n",
    "                                 sep=' ', index=None, header=None)\n",
    "test_df[sites].fillna(0).to_csv('test_sessions_text.txt', \n",
    "                                sep=' ', index=None, header=None)"
   ],
   "metadata": {
    "collapsed": false,
    "pycharm": {
     "name": "#%%\n",
     "is_executing": false
    }
   }
  },
  {
   "cell_type": "code",
   "execution_count": 8,
   "outputs": [
    {
     "name": "stdout",
     "text": [
      "(253561, 50000) (82797, 50000)\n",
      "CPU times: user 9.18 s, sys: 305 ms, total: 9.49 s\n",
      "Wall time: 9.73 s\n"
     ],
     "output_type": "stream"
    }
   ],
   "source": [
    "%%time\n",
    "cv = CountVectorizer(ngram_range=(1, 3), max_features=50000)\n",
    "with open('train_sessions_text.txt') as inp_train_file:\n",
    "    X_train = cv.fit_transform(inp_train_file)\n",
    "with open('test_sessions_text.txt') as inp_test_file:\n",
    "    X_test = cv.transform(inp_test_file)\n",
    "print(X_train.shape, X_test.shape)\n",
    "\n",
    "# CountVectorizer преобразовывает входной текст в матрицу,значениями которой,\n",
    "# являются количества вхождения данного ключа(слова) в текст.\n",
    "\n",
    "# раз два три\n",
    "# три четыре два два\n",
    "# раз раз раз четыре\n",
    "# Для начала CountVectorizer собирает уникальные ключи из всех записей,\n",
    "# в этом примере это будет [раз, два, три, четыре]\n",
    "# Длина списка из уникальных ключей и будет длиной нашего закодированного \n",
    "# текста (в этом случае это 4). А номера элементов будут соответствовать, \n",
    "# количеству раз встречи данного ключа с данным номером в строке:\n",
    "# раз два три --> [1,1,1,0]\n",
    "# три четыре два два --> [0,2,1,1]\n",
    "# раз раз раз четыре --> [3,0,0,1]\n"
   ],
   "metadata": {
    "collapsed": false,
    "pycharm": {
     "name": "#%%\n",
     "is_executing": false
    }
   }
  },
  {
   "cell_type": "code",
   "execution_count": 9,
   "outputs": [
    {
     "data": {
      "text/plain": "((253561, 50000), (253561,))"
     },
     "metadata": {},
     "output_type": "execute_result",
     "execution_count": 9
    }
   ],
   "source": [
    "X_train.shape, y_train.shape"
   ],
   "metadata": {
    "collapsed": false,
    "pycharm": {
     "name": "#%%\n",
     "is_executing": false
    }
   }
  },
  {
   "cell_type": "code",
   "execution_count": 12,
   "outputs": [
    {
     "name": "stdout",
     "text": [
      "LogisticRegression(C=1.0, class_weight=None, dual=False, fit_intercept=True,\n",
      "                   intercept_scaling=1, l1_ratio=None, max_iter=200,\n",
      "                   multi_class='auto', n_jobs=None, penalty='l2',\n",
      "                   random_state=13, solver='lbfgs', tol=0.0001, verbose=0,\n",
      "                   warm_start=False)\n",
      "0.9161529677848047\n"
     ],
     "output_type": "stream"
    }
   ],
   "source": [
    "\n",
    "grid = {\n",
    "    'C': 10**np.linspace(-3,1,5),\n",
    "    'max_iter': [100, 200, 500],\n",
    "    'solver': ['newton-cg', 'lbfgs', 'saga', 'liblinear']\n",
    "}\n",
    "idx = int(round(X_train.shape[0] * 0.8))\n",
    "log_reg =  LogisticRegression(random_state=13).fit(X_train[:idx, :], y_train[:idx])\n",
    "gs = GridSearchCV(log_reg, grid, scoring='roc_auc', cv=5, n_jobs=-1)\n",
    "result = gs.fit(X_train[:idx, :], y_train[:idx])\n",
    "print(gs.best_estimator_)\n",
    "# %%time\n",
    "# Split the data into the training and validation sets\n",
    "# idx = int(round(X_train.shape[0] * 0.8))\n",
    "# Classifier training\n",
    "# lr = LogisticRegression(random_state=13).fit(X_train[:idx, :], y_train[:idx])\n",
    "# Prediction for validation set\n",
    "y_pred = result.predict_proba(X_train[idx:, :])[:, 1]\n",
    "# Calculate the quality\n",
    "score = roc_auc_score(y_train[idx:], y_pred)\n",
    "print(score)\n",
    "# 0.9132519600597074 C=1, solver='lbfgs', max_iter=500, random_state=17, 0.9 - coef to split data train & test\n",
    "# 0.9266373497217151 C=0.1, solver='newton-cg', max_iter=5000, random_state=13, 0.8 - coef to split data train & test\n",
    "# 0.9266372884686439 C=0.1, solver='lbfgs', max_iter=5000, random_state=13, 0.8 - coef to split data train & test\n",
    "# 0.9272478590826543 C=0.1, solver='saga', max_iter=5000, random_state=13, 0.8 - coef to split data train & test\n",
    "# 0.927651700581267 C=0.1, solver='liblinear', max_iter=100, random_state=13, 0.8 - coef to split data train & test"
   ],
   "metadata": {
    "collapsed": false,
    "pycharm": {
     "name": "#%%\n",
     "is_executing": false
    }
   }
  },
  {
   "cell_type": "code",
   "execution_count": null,
   "outputs": [],
   "source": [
    "def write_to_submission_file(\n",
    "    predicted_labels, out_file,\n",
    "    target='target', index_label=\"session_id\"\n",
    "):\n",
    "    predicted_df = pd.DataFrame(\n",
    "        predicted_labels,\n",
    "        index = np.arange(1, predicted_labels.shape[0] + 1),\n",
    "        columns=[target]\n",
    "    )\n",
    "    predicted_df.to_csv(out_file, index_label=index_label)\n",
    "    "
   ],
   "metadata": {
    "collapsed": false,
    "pycharm": {
     "name": "#%%\n",
     "is_executing": false
    }
   }
  },
  {
   "cell_type": "code",
   "execution_count": null,
   "outputs": [],
   "source": [
    "# Train the model on the whole training data set\n",
    "# Use random_state=17 for reproducibility\n",
    "# Parameter C=1 by default, but here we set it explicitly\n",
    "lr = LogisticRegression(\n",
    "    C=0.1, random_state=13, solver='lbfgs', max_iter=5000\n",
    ").fit(X_train, y_train)\n",
    "# Make a prediction for test data set\n",
    "y_test = lr.predict_proba(X_test)[:, 1]\n",
    "# Write it to the file which could be submitted\n",
    "write_to_submission_file(y_test, 'baseline.csv')"
   ],
   "metadata": {
    "collapsed": false,
    "pycharm": {
     "name": "#%%\n",
     "is_executing": false
    }
   }
  }
 ],
 "metadata": {
  "kernelspec": {
   "display_name": "PyCharm (ODS)",
   "language": "python",
   "name": "pycharm-aae13552"
  },
  "language_info": {
   "codemirror_mode": {
    "name": "ipython",
    "version": 3
   },
   "file_extension": ".py",
   "mimetype": "text/x-python",
   "name": "python",
   "nbconvert_exporter": "python",
   "pygments_lexer": "ipython3",
   "version": "3.8.2"
  },
  "pycharm": {
   "stem_cell": {
    "cell_type": "raw",
    "source": [],
    "metadata": {
     "collapsed": false
    }
   }
  }
 },
 "nbformat": 4,
 "nbformat_minor": 2
}