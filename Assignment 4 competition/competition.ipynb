{
 "cells": [
  {
   "cell_type": "code",
   "execution_count": 24,
   "metadata": {
    "pycharm": {
     "is_executing": false,
     "name": "#%%\n"
    }
   },
   "outputs": [],
   "source": [
    "import warnings\n",
    "import pandas as pd\n",
    "import seaborn as seabornInstance \n",
    "import pickle\n",
    "import numpy as np\n",
    "import matplotlib.pyplot as plt\n",
    "from sklearn.feature_extraction.text import CountVectorizer, TfidfVectorizer\n",
    "from sklearn.linear_model import LogisticRegression\n",
    "from sklearn.metrics import (\n",
    "    roc_auc_score,\n",
    "    roc_curve,\n",
    "    confusion_matrix,\n",
    "    classification_report\n",
    ")\n",
    "from sklearn.model_selection import TimeSeriesSplit\n",
    "from sklearn.model_selection import train_test_split, cross_val_score\n",
    "from sklearn.tree import DecisionTreeClassifier, plot_tree\n",
    "\n",
    "warnings.filterwarnings('ignore')"
   ]
  },
  {
   "cell_type": "code",
   "execution_count": 25,
   "metadata": {
    "pycharm": {
     "is_executing": false,
     "name": "#%%\n"
    }
   },
   "outputs": [
    {
     "data": {
      "text/plain": "            site1               time1  site2               time2  site3  \\\nsession_id                                                                \n21669          56 2013-01-12 08:05:57   55.0 2013-01-12 08:05:57    NaN   \n54843          56 2013-01-12 08:37:23   55.0 2013-01-12 08:37:23   56.0   \n77292         946 2013-01-12 08:50:13  946.0 2013-01-12 08:50:14  951.0   \n114021        945 2013-01-12 08:50:17  948.0 2013-01-12 08:50:17  949.0   \n146670        947 2013-01-12 08:50:20  950.0 2013-01-12 08:50:20  948.0   \n\n                         time3  site4               time4  site5  \\\nsession_id                                                         \n21669                      NaT    NaN                 NaT    NaN   \n54843      2013-01-12 09:07:07   55.0 2013-01-12 09:07:09    NaN   \n77292      2013-01-12 08:50:15  946.0 2013-01-12 08:50:15  946.0   \n114021     2013-01-12 08:50:18  948.0 2013-01-12 08:50:18  945.0   \n146670     2013-01-12 08:50:20  947.0 2013-01-12 08:50:21  950.0   \n\n                         time5  ...               time6  site7  \\\nsession_id                      ...                              \n21669                      NaT  ...                 NaT    NaN   \n54843                      NaT  ...                 NaT    NaN   \n77292      2013-01-12 08:50:16  ... 2013-01-12 08:50:16  948.0   \n114021     2013-01-12 08:50:18  ... 2013-01-12 08:50:18  947.0   \n146670     2013-01-12 08:50:21  ... 2013-01-12 08:50:21  946.0   \n\n                         time7  site8               time8  site9  \\\nsession_id                                                         \n21669                      NaT    NaN                 NaT    NaN   \n54843                      NaT    NaN                 NaT    NaN   \n77292      2013-01-12 08:50:16  784.0 2013-01-12 08:50:16  949.0   \n114021     2013-01-12 08:50:19  945.0 2013-01-12 08:50:19  946.0   \n146670     2013-01-12 08:50:21  951.0 2013-01-12 08:50:22  946.0   \n\n                         time9 site10              time10 target  \nsession_id                                                        \n21669                      NaT    NaN                 NaT      0  \n54843                      NaT    NaN                 NaT      0  \n77292      2013-01-12 08:50:17  946.0 2013-01-12 08:50:17      0  \n114021     2013-01-12 08:50:19  946.0 2013-01-12 08:50:20      0  \n146670     2013-01-12 08:50:22  947.0 2013-01-12 08:50:22      0  \n\n[5 rows x 21 columns]",
      "text/html": "<div>\n<style scoped>\n    .dataframe tbody tr th:only-of-type {\n        vertical-align: middle;\n    }\n\n    .dataframe tbody tr th {\n        vertical-align: top;\n    }\n\n    .dataframe thead th {\n        text-align: right;\n    }\n</style>\n<table border=\"1\" class=\"dataframe\">\n  <thead>\n    <tr style=\"text-align: right;\">\n      <th></th>\n      <th>site1</th>\n      <th>time1</th>\n      <th>site2</th>\n      <th>time2</th>\n      <th>site3</th>\n      <th>time3</th>\n      <th>site4</th>\n      <th>time4</th>\n      <th>site5</th>\n      <th>time5</th>\n      <th>...</th>\n      <th>time6</th>\n      <th>site7</th>\n      <th>time7</th>\n      <th>site8</th>\n      <th>time8</th>\n      <th>site9</th>\n      <th>time9</th>\n      <th>site10</th>\n      <th>time10</th>\n      <th>target</th>\n    </tr>\n    <tr>\n      <th>session_id</th>\n      <th></th>\n      <th></th>\n      <th></th>\n      <th></th>\n      <th></th>\n      <th></th>\n      <th></th>\n      <th></th>\n      <th></th>\n      <th></th>\n      <th></th>\n      <th></th>\n      <th></th>\n      <th></th>\n      <th></th>\n      <th></th>\n      <th></th>\n      <th></th>\n      <th></th>\n      <th></th>\n      <th></th>\n    </tr>\n  </thead>\n  <tbody>\n    <tr>\n      <th>21669</th>\n      <td>56</td>\n      <td>2013-01-12 08:05:57</td>\n      <td>55.0</td>\n      <td>2013-01-12 08:05:57</td>\n      <td>NaN</td>\n      <td>NaT</td>\n      <td>NaN</td>\n      <td>NaT</td>\n      <td>NaN</td>\n      <td>NaT</td>\n      <td>...</td>\n      <td>NaT</td>\n      <td>NaN</td>\n      <td>NaT</td>\n      <td>NaN</td>\n      <td>NaT</td>\n      <td>NaN</td>\n      <td>NaT</td>\n      <td>NaN</td>\n      <td>NaT</td>\n      <td>0</td>\n    </tr>\n    <tr>\n      <th>54843</th>\n      <td>56</td>\n      <td>2013-01-12 08:37:23</td>\n      <td>55.0</td>\n      <td>2013-01-12 08:37:23</td>\n      <td>56.0</td>\n      <td>2013-01-12 09:07:07</td>\n      <td>55.0</td>\n      <td>2013-01-12 09:07:09</td>\n      <td>NaN</td>\n      <td>NaT</td>\n      <td>...</td>\n      <td>NaT</td>\n      <td>NaN</td>\n      <td>NaT</td>\n      <td>NaN</td>\n      <td>NaT</td>\n      <td>NaN</td>\n      <td>NaT</td>\n      <td>NaN</td>\n      <td>NaT</td>\n      <td>0</td>\n    </tr>\n    <tr>\n      <th>77292</th>\n      <td>946</td>\n      <td>2013-01-12 08:50:13</td>\n      <td>946.0</td>\n      <td>2013-01-12 08:50:14</td>\n      <td>951.0</td>\n      <td>2013-01-12 08:50:15</td>\n      <td>946.0</td>\n      <td>2013-01-12 08:50:15</td>\n      <td>946.0</td>\n      <td>2013-01-12 08:50:16</td>\n      <td>...</td>\n      <td>2013-01-12 08:50:16</td>\n      <td>948.0</td>\n      <td>2013-01-12 08:50:16</td>\n      <td>784.0</td>\n      <td>2013-01-12 08:50:16</td>\n      <td>949.0</td>\n      <td>2013-01-12 08:50:17</td>\n      <td>946.0</td>\n      <td>2013-01-12 08:50:17</td>\n      <td>0</td>\n    </tr>\n    <tr>\n      <th>114021</th>\n      <td>945</td>\n      <td>2013-01-12 08:50:17</td>\n      <td>948.0</td>\n      <td>2013-01-12 08:50:17</td>\n      <td>949.0</td>\n      <td>2013-01-12 08:50:18</td>\n      <td>948.0</td>\n      <td>2013-01-12 08:50:18</td>\n      <td>945.0</td>\n      <td>2013-01-12 08:50:18</td>\n      <td>...</td>\n      <td>2013-01-12 08:50:18</td>\n      <td>947.0</td>\n      <td>2013-01-12 08:50:19</td>\n      <td>945.0</td>\n      <td>2013-01-12 08:50:19</td>\n      <td>946.0</td>\n      <td>2013-01-12 08:50:19</td>\n      <td>946.0</td>\n      <td>2013-01-12 08:50:20</td>\n      <td>0</td>\n    </tr>\n    <tr>\n      <th>146670</th>\n      <td>947</td>\n      <td>2013-01-12 08:50:20</td>\n      <td>950.0</td>\n      <td>2013-01-12 08:50:20</td>\n      <td>948.0</td>\n      <td>2013-01-12 08:50:20</td>\n      <td>947.0</td>\n      <td>2013-01-12 08:50:21</td>\n      <td>950.0</td>\n      <td>2013-01-12 08:50:21</td>\n      <td>...</td>\n      <td>2013-01-12 08:50:21</td>\n      <td>946.0</td>\n      <td>2013-01-12 08:50:21</td>\n      <td>951.0</td>\n      <td>2013-01-12 08:50:22</td>\n      <td>946.0</td>\n      <td>2013-01-12 08:50:22</td>\n      <td>947.0</td>\n      <td>2013-01-12 08:50:22</td>\n      <td>0</td>\n    </tr>\n  </tbody>\n</table>\n<p>5 rows × 21 columns</p>\n</div>"
     },
     "metadata": {},
     "output_type": "execute_result",
     "execution_count": 25
    }
   ],
   "source": [
    "times = [f'time{i}' for i in range(1, 11)]\n",
    "sites = [f'site{i}' for i in range(1, 11)]\n",
    "# reading from csv\n",
    "train_df = pd.read_csv(\n",
    "    'train_sessions.csv',\n",
    "    index_col='session_id',\n",
    "    parse_dates=times\n",
    ")\n",
    "test_df = pd.read_csv(\n",
    "    'test_sessions.csv',\n",
    "    index_col='session_id',\n",
    "    parse_dates=times\n",
    ")\n",
    "\n",
    "# Sort the data by time\n",
    "train_df = train_df.sort_values(by='time1')\n",
    "\n",
    "# Look at the first rows of the training set\n",
    "train_df.head()"
   ]
  },
  {
   "cell_type": "code",
   "execution_count": 26,
   "metadata": {
    "pycharm": {
     "is_executing": false,
     "name": "#%%\n"
    }
   },
   "outputs": [
    {
     "data": {
      "text/plain": "(array([0.81678381, 0.65515476, 0.87596184, 0.93550758, 0.84744869,\n        0.88888981, 0.92493903, 0.87420433, 0.92854015, 0.92308156]),\n 0.8670511554896215)"
     },
     "metadata": {},
     "output_type": "execute_result",
     "execution_count": 26
    }
   ],
   "source": [
    "idx = train_df.shape[0]\n",
    "data = train_df                                        # leave train.target for ed\n",
    "data[sites] = data[sites].fillna(0).astype(np.uint16)  # float->int (55.0 -> 55)\n",
    "\n",
    "# for each row combine site_ids into one string separated by space\n",
    "data['words'] = data[sites].astype(np.str).apply(' '.join, axis=1)\n",
    "\n",
    "# words = CountVectorizer(max_features=50000, ngram_range=(1, 3)).fit_transform(data['words'])\n",
    "words = TfidfVectorizer(max_features=50000, ngram_range=(1, 3)).fit_transform(data['words'])\n",
    "\n",
    "data.drop(['words'], inplace=True, axis=1)\n",
    "model = LogisticRegression(random_state=17, solver='liblinear')\n",
    "time_split = TimeSeriesSplit(n_splits=10)\n",
    "X_train = words[:idx]\n",
    "y_train = train_df.target\n",
    "\n",
    "cv_scores = cross_val_score(model, X_train, y_train, cv=time_split, scoring='roc_auc')\n",
    "cv_scores, cv_scores.mean()"
   ]
  },
  {
   "cell_type": "code",
   "execution_count": 27,
   "outputs": [
    {
     "name": "stdout",
     "text": [
      "<class 'pandas.core.frame.DataFrame'>\n",
      "Int64Index: 253561 entries, 21669 to 204762\n",
      "Data columns (total 21 columns):\n",
      " #   Column  Non-Null Count   Dtype         \n",
      "---  ------  --------------   -----         \n",
      " 0   site1   253561 non-null  uint16        \n",
      " 1   time1   253561 non-null  datetime64[ns]\n",
      " 2   site2   253561 non-null  uint16        \n",
      " 3   time2   250098 non-null  datetime64[ns]\n",
      " 4   site3   253561 non-null  uint16        \n",
      " 5   time3   246919 non-null  datetime64[ns]\n",
      " 6   site4   253561 non-null  uint16        \n",
      " 7   time4   244321 non-null  datetime64[ns]\n",
      " 8   site5   253561 non-null  uint16        \n",
      " 9   time5   241829 non-null  datetime64[ns]\n",
      " 10  site6   253561 non-null  uint16        \n",
      " 11  time6   239495 non-null  datetime64[ns]\n",
      " 12  site7   253561 non-null  uint16        \n",
      " 13  time7   237297 non-null  datetime64[ns]\n",
      " 14  site8   253561 non-null  uint16        \n",
      " 15  time8   235224 non-null  datetime64[ns]\n",
      " 16  site9   253561 non-null  uint16        \n",
      " 17  time9   233084 non-null  datetime64[ns]\n",
      " 18  site10  253561 non-null  uint16        \n",
      " 19  time10  231052 non-null  datetime64[ns]\n",
      " 20  target  253561 non-null  int64         \n",
      "dtypes: datetime64[ns](10), int64(1), uint16(10)\n",
      "memory usage: 28.1 MB\n"
     ],
     "output_type": "stream"
    }
   ],
   "source": [
    "train_df.info();"
   ],
   "metadata": {
    "collapsed": false,
    "pycharm": {
     "name": "#%%\n",
     "is_executing": false
    }
   }
  },
  {
   "cell_type": "code",
   "execution_count": 28,
   "metadata": {
    "pycharm": {
     "is_executing": false,
     "name": "#%%\n"
    }
   },
   "outputs": [
    {
     "data": {
      "text/plain": "<Figure size 432x288 with 1 Axes>",
      "image/png": "[encoded data removed]"
     },
     "metadata": {
      "needs_background": "light"
     },
     "output_type": "display_data"
    }
   ],
   "source": [
    "cnt_srs = train_df['target'].value_counts()\n",
    "cnt_srs.plot.bar(stacked=True);"
   ]
  },
  {
   "cell_type": "code",
   "execution_count": 29,
   "metadata": {
    "pycharm": {
     "is_executing": false,
     "name": "#%%\n"
    }
   },
   "outputs": [
    {
     "data": {
      "text/plain": "0    251264\n1      2297\nName: target, dtype: int64"
     },
     "metadata": {},
     "output_type": "execute_result",
     "execution_count": 29
    }
   ],
   "source": [
    "train_df['target'].value_counts()"
   ]
  },
  {
   "cell_type": "code",
   "execution_count": 30,
   "metadata": {
    "pycharm": {
     "is_executing": false,
     "name": "#%%\n"
    }
   },
   "outputs": [],
   "source": [
    "# Change site1, ..., site10 columns type \n",
    "# to integer and fill NA-values with zeros\n",
    "train_df[sites] = train_df[sites].fillna(0).astype(np.uint16)\n",
    "test_df[sites] = test_df[sites].fillna(0).astype(np.uint16)\n"
   ]
  },
  {
   "cell_type": "code",
   "execution_count": 31,
   "metadata": {
    "pycharm": {
     "is_executing": false,
     "name": "#%%\n"
    }
   },
   "outputs": [
    {
     "name": "stdout",
     "text": [
      "sites_dict.shape[0]=48371\n"
     ],
     "output_type": "stream"
    },
    {
     "data": {
      "text/plain": "                                     site\n25075              www.abmecatronique.com\n13997                     groups.live.com\n42436  majeureliguefootball.wordpress.com\n30911           cdt46.media.tourinsoft.eu\n8104                  www.hdwallpapers.eu",
      "text/html": "<div>\n<style scoped>\n    .dataframe tbody tr th:only-of-type {\n        vertical-align: middle;\n    }\n\n    .dataframe tbody tr th {\n        vertical-align: top;\n    }\n\n    .dataframe thead th {\n        text-align: right;\n    }\n</style>\n<table border=\"1\" class=\"dataframe\">\n  <thead>\n    <tr style=\"text-align: right;\">\n      <th></th>\n      <th>site</th>\n    </tr>\n  </thead>\n  <tbody>\n    <tr>\n      <th>25075</th>\n      <td>www.abmecatronique.com</td>\n    </tr>\n    <tr>\n      <th>13997</th>\n      <td>groups.live.com</td>\n    </tr>\n    <tr>\n      <th>42436</th>\n      <td>majeureliguefootball.wordpress.com</td>\n    </tr>\n    <tr>\n      <th>30911</th>\n      <td>cdt46.media.tourinsoft.eu</td>\n    </tr>\n    <tr>\n      <th>8104</th>\n      <td>www.hdwallpapers.eu</td>\n    </tr>\n  </tbody>\n</table>\n</div>"
     },
     "metadata": {},
     "output_type": "execute_result",
     "execution_count": 31
    }
   ],
   "source": [
    "# Load websites dictionary\n",
    "with open(r\"site_dic.pkl\", \"rb\") as fh:\n",
    "    site_ids = pickle.load(fh)\n",
    "\n",
    "# Create dataframe for the dictionary\n",
    "sites_dict = pd.DataFrame(\n",
    "    list(site_ids.keys()),\n",
    "    index=list(site_ids.values()), \n",
    "    columns=['site']\n",
    ")\n",
    "print(f\"{sites_dict.shape[0]=}\")\n",
    "sites_dict.head()"
   ]
  },
  {
   "cell_type": "code",
   "execution_count": 32,
   "metadata": {
    "pycharm": {
     "is_executing": false,
     "name": "#%%\n"
    }
   },
   "outputs": [
    {
     "data": {
      "text/plain": "                site\n77      i1.ytimg.com\n80     s.youtube.com\n76   www.youtube.com\n29  www.facebook.com\n21     www.google.fr",
      "text/html": "<div>\n<style scoped>\n    .dataframe tbody tr th:only-of-type {\n        vertical-align: middle;\n    }\n\n    .dataframe tbody tr th {\n        vertical-align: top;\n    }\n\n    .dataframe thead th {\n        text-align: right;\n    }\n</style>\n<table border=\"1\" class=\"dataframe\">\n  <thead>\n    <tr style=\"text-align: right;\">\n      <th></th>\n      <th>site</th>\n    </tr>\n  </thead>\n  <tbody>\n    <tr>\n      <th>77</th>\n      <td>i1.ytimg.com</td>\n    </tr>\n    <tr>\n      <th>80</th>\n      <td>s.youtube.com</td>\n    </tr>\n    <tr>\n      <th>76</th>\n      <td>www.youtube.com</td>\n    </tr>\n    <tr>\n      <th>29</th>\n      <td>www.facebook.com</td>\n    </tr>\n    <tr>\n      <th>21</th>\n      <td>www.google.fr</td>\n    </tr>\n  </tbody>\n</table>\n</div>"
     },
     "metadata": {},
     "output_type": "execute_result",
     "execution_count": 32
    }
   ],
   "source": [
    "topAlice = train_df[train_df['target'] == 1]\n",
    "top_Alice = pd.Series(\n",
    "    topAlice[sites].values.flatten()\n",
    ").value_counts().sort_values(ascending=False).head()\n",
    "sites_dict.loc[top_Alice.index]"
   ]
  },
  {
   "cell_type": "code",
   "execution_count": 33,
   "metadata": {
    "pycharm": {
     "is_executing": false,
     "name": "#%%\n"
    }
   },
   "outputs": [
    {
     "data": {
      "text/plain": "            site1  site2  site3  site4  site5  site6  site7  site8  site9  \\\nsession_id                                                                  \n21669          56     55      0      0      0      0      0      0      0   \n54843          56     55     56     55      0      0      0      0      0   \n77292         946    946    951    946    946    945    948    784    949   \n114021        945    948    949    948    945    946    947    945    946   \n146670        947    950    948    947    950    952    946    951    946   \n\n            site10  target         min         max  seconds  \nsession_id                                                   \n21669            0       0  1357977957  1357977957        0  \n54843            0       0  1357979843  1357981629     1786  \n77292          946       0  1357980613  1357980617        4  \n114021         946       0  1357980617  1357980620        3  \n146670         947       0  1357980620  1357980622        2  ",
      "text/html": "<div>\n<style scoped>\n    .dataframe tbody tr th:only-of-type {\n        vertical-align: middle;\n    }\n\n    .dataframe tbody tr th {\n        vertical-align: top;\n    }\n\n    .dataframe thead th {\n        text-align: right;\n    }\n</style>\n<table border=\"1\" class=\"dataframe\">\n  <thead>\n    <tr style=\"text-align: right;\">\n      <th></th>\n      <th>site1</th>\n      <th>site2</th>\n      <th>site3</th>\n      <th>site4</th>\n      <th>site5</th>\n      <th>site6</th>\n      <th>site7</th>\n      <th>site8</th>\n      <th>site9</th>\n      <th>site10</th>\n      <th>target</th>\n      <th>min</th>\n      <th>max</th>\n      <th>seconds</th>\n    </tr>\n    <tr>\n      <th>session_id</th>\n      <th></th>\n      <th></th>\n      <th></th>\n      <th></th>\n      <th></th>\n      <th></th>\n      <th></th>\n      <th></th>\n      <th></th>\n      <th></th>\n      <th></th>\n      <th></th>\n      <th></th>\n      <th></th>\n    </tr>\n  </thead>\n  <tbody>\n    <tr>\n      <th>21669</th>\n      <td>56</td>\n      <td>55</td>\n      <td>0</td>\n      <td>0</td>\n      <td>0</td>\n      <td>0</td>\n      <td>0</td>\n      <td>0</td>\n      <td>0</td>\n      <td>0</td>\n      <td>0</td>\n      <td>1357977957</td>\n      <td>1357977957</td>\n      <td>0</td>\n    </tr>\n    <tr>\n      <th>54843</th>\n      <td>56</td>\n      <td>55</td>\n      <td>56</td>\n      <td>55</td>\n      <td>0</td>\n      <td>0</td>\n      <td>0</td>\n      <td>0</td>\n      <td>0</td>\n      <td>0</td>\n      <td>0</td>\n      <td>1357979843</td>\n      <td>1357981629</td>\n      <td>1786</td>\n    </tr>\n    <tr>\n      <th>77292</th>\n      <td>946</td>\n      <td>946</td>\n      <td>951</td>\n      <td>946</td>\n      <td>946</td>\n      <td>945</td>\n      <td>948</td>\n      <td>784</td>\n      <td>949</td>\n      <td>946</td>\n      <td>0</td>\n      <td>1357980613</td>\n      <td>1357980617</td>\n      <td>4</td>\n    </tr>\n    <tr>\n      <th>114021</th>\n      <td>945</td>\n      <td>948</td>\n      <td>949</td>\n      <td>948</td>\n      <td>945</td>\n      <td>946</td>\n      <td>947</td>\n      <td>945</td>\n      <td>946</td>\n      <td>946</td>\n      <td>0</td>\n      <td>1357980617</td>\n      <td>1357980620</td>\n      <td>3</td>\n    </tr>\n    <tr>\n      <th>146670</th>\n      <td>947</td>\n      <td>950</td>\n      <td>948</td>\n      <td>947</td>\n      <td>950</td>\n      <td>952</td>\n      <td>946</td>\n      <td>951</td>\n      <td>946</td>\n      <td>947</td>\n      <td>0</td>\n      <td>1357980620</td>\n      <td>1357980622</td>\n      <td>2</td>\n    </tr>\n  </tbody>\n</table>\n</div>"
     },
     "metadata": {},
     "output_type": "execute_result",
     "execution_count": 33
    }
   ],
   "source": [
    "# Create a separate dataframe where we will work with timestamps\n",
    "\n",
    "# Find sessions' starting and ending\n",
    "# time_df['min'] = train_df[times].min(axis=1, skipna=True)         # option 1\n",
    "# time_df['max'] = train_df[times].max(axis=1, skipna=True)\n",
    "# time_df['min'] = train_df[train_df[times].notnull()].max(axis=1)  # option 2\n",
    "# time_df['min'] = train_df.loc[:, times].min(axis=1, skipna=True)  # option 3\n",
    "# time_df['min'] = train_df[times].dropna(axis=1).min(axis=1)       # option 4\n",
    "train_df['min'] = train_df.apply(lambda x: \n",
    "    min([int(y.timestamp()) for y in x if isinstance(y, pd.Timestamp)])\n",
    ", axis=1)\n",
    "train_df['max'] = train_df[times].apply(lambda x: max(\n",
    "    [int(y.timestamp()) for y in x if isinstance(y, pd.Timestamp)]\n",
    "), axis=1)\n",
    "\n",
    "# Calculate sessions' duration in seconds\n",
    "train_df['seconds'] = train_df['max'] - train_df['min']\n",
    "# time_df['seconds'] = (time_df['max'] - time_df['min']).dt.total_seconds()\n",
    "# time_df.head()\n",
    "train_df.drop(columns=times).head()"
   ]
  },
  {
   "cell_type": "code",
   "execution_count": 34,
   "metadata": {
    "pycharm": {
     "is_executing": false,
     "name": "#%%\n"
    }
   },
   "outputs": [
    {
     "data": {
      "text/plain": "<Figure size 1080x720 with 1 Axes>",
      "image/png": "[encoded data removed]"
     },
     "metadata": {
      "needs_background": "light"
     },
     "output_type": "display_data"
    }
   ],
   "source": [
    "plt.figure(figsize=(15,10))\n",
    "plt.tight_layout()\n",
    "seabornInstance.distplot(train_df['seconds']);"
   ]
  },
  {
   "cell_type": "code",
   "execution_count": 35,
   "metadata": {
    "pycharm": {
     "is_executing": false,
     "name": "#%%\n"
    }
   },
   "outputs": [
    {
     "data": {
      "text/plain": "<Figure size 432x288 with 1 Axes>",
      "image/png": "[encoded data removed]"
     },
     "metadata": {
      "needs_background": "light"
     },
     "output_type": "display_data"
    }
   ],
   "source": [
    "train_df['seconds'].hist(bins=50);"
   ]
  },
  {
   "cell_type": "code",
   "execution_count": 36,
   "metadata": {
    "pycharm": {
     "is_executing": false,
     "name": "#%%\n"
    }
   },
   "outputs": [
    {
     "data": {
      "text/plain": "<Figure size 432x288 with 1 Axes>",
      "image/png": "[encoded data removed]"
     },
     "metadata": {
      "needs_background": "light"
     },
     "output_type": "display_data"
    }
   ],
   "source": [
    "train_df.boxplot(column=['seconds']);"
   ]
  },
  {
   "cell_type": "code",
   "execution_count": 37,
   "metadata": {
    "pycharm": {
     "is_executing": false,
     "name": "#%%\n"
    }
   },
   "outputs": [
    {
     "data": {
      "text/plain": "count    253561.000000\nmean        138.494370\nstd         295.781742\nmin           0.000000\n25%           7.000000\n50%          27.000000\n75%         113.000000\nmax        1800.000000\nName: seconds, dtype: float64"
     },
     "metadata": {},
     "output_type": "execute_result",
     "execution_count": 37
    }
   ],
   "source": [
    "# 1800 - definitely it is \"tail\"\n",
    "train_df['seconds'].describe()"
   ]
  },
  {
   "cell_type": "code",
   "execution_count": 38,
   "metadata": {
    "pycharm": {
     "is_executing": false,
     "name": "#%%\n"
    }
   },
   "outputs": [],
   "source": [
    "# removing tiles\n",
    "tails = train_df[train_df['seconds'] > 250].index\n",
    "train_df_without_tiles = train_df.drop(tails, axis=0)"
   ]
  },
  {
   "cell_type": "code",
   "execution_count": 39,
   "metadata": {
    "pycharm": {
     "is_executing": false,
     "name": "#%%\n"
    }
   },
   "outputs": [
    {
     "data": {
      "text/plain": "<Figure size 1080x720 with 1 Axes>",
      "image/png": "[encoded data removed]"
     },
     "metadata": {
      "needs_background": "light"
     },
     "output_type": "display_data"
    }
   ],
   "source": [
    "plt.figure(figsize=(15,10))\n",
    "plt.tight_layout()\n",
    "seabornInstance.distplot(train_df_without_tiles['seconds']);"
   ]
  },
  {
   "cell_type": "code",
   "execution_count": 40,
   "metadata": {
    "pycharm": {
     "is_executing": false,
     "name": "#%%\n"
    }
   },
   "outputs": [
    {
     "data": {
      "text/plain": "<Figure size 432x288 with 1 Axes>",
      "image/png": "[encoded data removed]"
     },
     "metadata": {
      "needs_background": "light"
     },
     "output_type": "display_data"
    }
   ],
   "source": [
    "train_df_without_tiles['seconds'].hist(bins=50);"
   ]
  },
  {
   "cell_type": "code",
   "execution_count": 41,
   "metadata": {
    "pycharm": {
     "is_executing": false,
     "name": "#%%\n"
    }
   },
   "outputs": [
    {
     "data": {
      "text/plain": "<matplotlib.axes._subplots.AxesSubplot at 0x7f9005c50df0>"
     },
     "metadata": {},
     "output_type": "execute_result",
     "execution_count": 41
    },
    {
     "data": {
      "text/plain": "<Figure size 432x288 with 1 Axes>",
      "image/png": "[encoded data removed]"
     },
     "metadata": {
      "needs_background": "light"
     },
     "output_type": "display_data"
    }
   ],
   "source": [
    "train_df_without_tiles.boxplot(column=['seconds'])"
   ]
  },
  {
   "cell_type": "code",
   "execution_count": 42,
   "metadata": {
    "pycharm": {
     "is_executing": false,
     "name": "#%%\n"
    }
   },
   "outputs": [
    {
     "name": "stdout",
     "text": [
      "ROC AUC 0.5\n",
      "Confusion Matrix:\n",
      "[[43405     0]\n",
      " [  429     0]]\n",
      "\n",
      "Classification Report:\n",
      "              precision    recall  f1-score   support\n",
      "\n",
      "           0       0.99      1.00      1.00     43405\n",
      "           1       0.00      0.00      0.00       429\n",
      "\n",
      "    accuracy                           0.99     43834\n",
      "   macro avg       0.50      0.50      0.50     43834\n",
      "weighted avg       0.98      0.99      0.99     43834\n",
      "\n"
     ],
     "output_type": "stream"
    }
   ],
   "source": [
    "X = train_df_without_tiles[sites + ['seconds']]  # Features\n",
    "y = train_df_without_tiles['target']  # 1 option                 Target variable\n",
    "# y = train_df_witout_tiles.target     # 2 option \n",
    "\n",
    "X_train, X_test, y_train, y_test = train_test_split(\n",
    "    X, y, test_size=0.2,\n",
    "    random_state=17\n",
    ")\n",
    "logreg = LogisticRegression(solver='lbfgs',random_state=0)\n",
    "logreg.fit(X_train, y_train)\n",
    "reg_predicted_y = logreg.predict(X_test)\n",
    "logit_roc_auc = roc_auc_score(y_test, reg_predicted_y)\n",
    "\n",
    "print(f\"ROC AUC {logit_roc_auc}\")\n",
    "#                   Predicted negative   Predicted positive\n",
    "# Actual negative   True negative(TN)    False positive(FP)      \n",
    "# Actual positive   False negative(FN)   True positive(TP)\n",
    "print(f\"Confusion Matrix:\\n{confusion_matrix(y_test, reg_predicted_y)}\\n\")\n",
    "print(f\"Classification Report:\\n{classification_report(y_test, reg_predicted_y)}\")\n",
    "\n",
    "for x in range(len(reg_predicted_y)):\n",
    "   if (reg_predicted_y[x] == 1):\n",
    "      print(x, end=\"\\t\")"
   ]
  },
  {
   "cell_type": "code",
   "execution_count": 43,
   "metadata": {
    "pycharm": {
     "is_executing": false,
     "name": "#%%\n"
    }
   },
   "outputs": [
    {
     "data": {
      "text/plain": "<Figure size 432x288 with 1 Axes>",
      "image/png": "[encoded data removed]"
     },
     "metadata": {
      "needs_background": "light"
     },
     "output_type": "display_data"
    }
   ],
   "source": [
    "fpr, tpr, thresholds = roc_curve(y_test, logreg.predict_proba(X_test)[:,1])\n",
    "plt.figure()\n",
    "plt.plot(fpr, tpr, label='Logistic Regression (area = %0.2f)' % logit_roc_auc)\n",
    "plt.plot([0, 1], [0, 1],'r--')\n",
    "plt.xlim([0.0, 1.0])\n",
    "plt.ylim([0.0, 1.05])\n",
    "plt.xlabel('False Positive Rate')\n",
    "plt.ylabel('True Positive Rate')\n",
    "plt.title('Receiver operating characteristic')\n",
    "plt.legend(loc=\"lower right\")\n",
    "plt.savefig('Log_ROC')\n",
    "plt.show()"
   ]
  },
  {
   "cell_type": "code",
   "execution_count": 44,
   "metadata": {
    "pycharm": {
     "is_executing": false,
     "name": "#%%\n"
    }
   },
   "outputs": [
    {
     "name": "stdout",
     "text": [
      "ROC AUC 0.5944733951300016\n",
      "Confusion Matrix:\n",
      "[[42905   500]\n",
      " [  343    86]]\n",
      "\n",
      "Classification Report:\n",
      "              precision    recall  f1-score   support\n",
      "\n",
      "           0       0.99      0.99      0.99     43405\n",
      "           1       0.15      0.20      0.17       429\n",
      "\n",
      "    accuracy                           0.98     43834\n",
      "   macro avg       0.57      0.59      0.58     43834\n",
      "weighted avg       0.98      0.98      0.98     43834\n",
      "\n",
      "113\t332\t348\t359\t374\t375\t481\t512\t564\t565\t610\t786\t807\t820\t868\t891\t956\t1035\t1063\t1141\t1385\t1666\t1703\t1717\t1751\t1886\t1902\t1919\t1986\t2012\t2044\t2066\t2109\t2158\t2201\t2275\t2623\t2634\t2701\t2767\t2804\t3009\t3106\t3203\t3315\t3351\t3392\t3463\t3484\t3556\t3569\t3648\t3723\t3749\t3847\t3905\t3935\t4165\t4208\t4226\t4243\t4252\t4322\t4324\t4353\t4414\t4486\t4530\t4547\t4584\t4681\t4751\t4809\t4819\t4951\t4963\t4991\t4996\t5176\t5252\t5305\t5390\t5465\t5601\t5638\t5806\t5890\t5941\t6000\t6057\t6102\t6144\t6151\t6225\t6289\t6360\t6374\t6534\t6651\t6851\t6914\t6947\t7049\t7090\t7223\t7230\t7315\t7324\t7397\t7439\t7510\t7515\t7544\t7685\t7878\t7879\t7906\t8104\t8147\t8263\t8284\t8289\t8309\t8423\t8453\t8454\t8486\t8488\t8561\t8569\t8705\t8774\t8794\t8908\t8966\t9109\t9154\t9321\t9340\t9404\t9543\t9656\t9703\t9743\t9969\t10118\t10122\t10165\t10185\t10408\t10420\t10491\t10506\t10640\t10642\t10649\t10722\t10765\t10953\t11029\t11041\t11073\t11175\t11657\t11662\t11668\t11717\t11762\t11799\t11888\t11914\t11947\t12230\t12246\t12397\t12423\t12462\t12691\t12706\t12852\t13046\t13254\t13284\t13466\t13572\t13966\t14008\t14115\t14133\t14235\t14268\t14325\t14455\t14468\t14476\t14559\t14602\t14879\t14920\t15143\t15324\t15327\t15349\t15385\t15638\t15733\t15798\t16031\t16083\t16126\t16259\t16485\t16496\t16498\t16531\t16569\t17165\t17241\t17340\t17353\t17439\t17448\t17449\t17664\t17676\t17793\t17835\t17845\t17877\t17886\t18085\t18180\t18266\t18287\t18344\t18391\t18422\t18588\t18630\t19121\t19262\t19295\t19451\t19520\t19612\t19661\t19665\t19706\t19714\t19756\t19808\t19829\t20382\t20429\t20575\t20582\t20632\t20644\t20804\t20843\t20861\t20898\t20916\t20959\t20997\t21049\t21082\t21142\t21147\t21163\t21230\t21307\t21387\t21408\t21461\t21539\t21545\t21607\t21905\t21948\t21979\t21989\t22061\t22123\t22139\t22159\t22250\t22261\t22291\t22373\t22422\t22431\t22469\t22471\t22496\t22547\t22562\t22584\t22585\t22592\t22626\t22688\t22713\t22760\t22856\t23054\t23059\t23087\t23140\t23262\t23338\t23532\t23546\t23576\t23698\t23755\t23804\t23858\t23859\t23865\t23929\t24013\t24132\t24349\t24561\t24678\t24681\t24692\t24767\t24924\t25011\t25119\t25125\t25131\t25318\t25334\t25335\t25338\t25476\t25492\t25507\t25594\t25794\t25905\t25915\t25926\t25933\t25973\t25992\t26001\t26058\t26096\t26129\t26351\t26379\t26465\t26499\t26721\t26799\t26845\t26947\t26979\t27140\t27229\t27420\t27495\t27864\t27939\t28141\t28149\t28216\t28256\t28272\t28304\t28316\t28320\t28475\t28565\t28740\t28819\t28965\t29019\t29160\t29302\t29309\t29405\t29490\t29496\t29511\t29538\t29640\t29665\t29715\t29973\t29992\t30007\t30039\t30067\t30272\t30343\t30464\t30597\t30625\t30739\t30821\t31090\t31155\t31162\t31271\t31320\t31527\t31626\t31638\t31771\t31874\t31875\t31884\t31965\t31992\t32100\t32274\t32365\t32440\t32470\t32550\t32591\t32622\t32649\t32655\t32678\t32742\t32841\t32973\t32986\t32987\t33049\t33087\t33107\t33121\t33129\t33133\t33270\t33321\t33441\t33521\t33542\t33773\t33792\t33832\t33847\t33849\t33851\t33865\t33922\t33947\t34043\t34094\t34157\t34218\t34416\t34429\t34469\t34503\t34752\t34766\t34949\t35074\t35238\t35373\t35457\t35579\t35758\t35972\t36148\t36214\t36319\t36406\t36612\t36661\t36700\t37084\t37227\t37330\t37386\t37607\t37746\t37748\t37804\t37859\t37919\t38005\t38028\t38094\t38223\t38293\t38336\t38418\t38454\t38504\t38557\t38707\t38732\t38753\t38755\t38758\t38918\t38968\t39116\t39120\t39153\t39249\t39252\t39349\t39388\t39399\t39526\t39548\t39565\t39583\t39609\t39650\t39655\t39657\t39683\t39684\t39710\t39751\t39777\t39842\t39870\t39996\t40026\t40061\t40095\t40114\t40256\t40278\t40355\t40445\t40559\t40586\t40772\t40825\t40832\t40904\t40938\t40955\t41116\t41316\t41323\t41353\t41356\t41507\t41516\t41580\t41611\t41632\t41647\t41689\t41850\t42020\t42045\t42138\t42163\t42181\t42182\t42198\t42282\t42320\t42324\t42377\t42599\t42635\t42701\t42781\t42827\t43127\t43146\t43178\t43452\t43489\t43568\t43752\t43757\t43796\t43804\t"
     ],
     "output_type": "stream"
    }
   ],
   "source": [
    "decision_tree = DecisionTreeClassifier()\n",
    "decision_tree.fit(X_train, y_train)\n",
    "tree_predicted_y = decision_tree.predict(X_test)\n",
    "logit_roc_auc = roc_auc_score(y_test, tree_predicted_y)\n",
    "\n",
    "print(f\"ROC AUC {logit_roc_auc}\")\n",
    "#                   Predicted negative   Predicted positive\n",
    "# Actual negative   True negative(TN)    False positive(FP)      \n",
    "# Actual positive   False negative(FN)   True positive(TP)\n",
    "print(f\"Confusion Matrix:\\n{confusion_matrix(y_test, tree_predicted_y)}\\n\")\n",
    "print(\n",
    "    f\"Classification Report:\\n{classification_report(y_test, tree_predicted_y)}\"\n",
    ")\n",
    "for x in range(len(tree_predicted_y)):\n",
    "   if (tree_predicted_y[x] == 1):\n",
    "      print(x, end=\"\\t\")\n",
    "\n",
    "# Additional: display the resulting tree using graphviz.\n",
    "# You can use pydot or web-service dot2png.\n",
    "# plot_tree(\n",
    "#     decision_tree,                        \n",
    "#     feature_names=train_df_without_tiles.columns,\n",
    "#     filled=True,                                  # color\n",
    "#     class_names=[\"Alice\", \"Anonimus\"]\n",
    "# );"
   ]
  },
  {
   "cell_type": "code",
   "execution_count": null,
   "outputs": [],
   "source": [
    "hosts = pd.read_pickle('../input/site_dic.pkl')\n",
    "hosts = pd.DataFrame(\n",
    "    data=list(hosts.keys()),\n",
    "    index=list(hosts.values()),\n",
    "    columns=['name']\n",
    ") # switch key and value\n",
    "hosts['split'] = hosts['name'].str.split('.') \n",
    "hosts['len'] = hosts['split'].map(lambda x: len(x)).astype(np.int8)\n",
    "hosts['domain'] = hosts['split'].map(lambda x: x[-1])"
   ],
   "metadata": {
    "collapsed": false,
    "pycharm": {
     "name": "#%%\n"
    }
   }
  },
  {
   "cell_type": "code",
   "execution_count": 50,
   "outputs": [
    {
     "data": {
      "text/plain": "<253561x50000 sparse matrix of type '<class 'numpy.int64'>'\n\twith 3379553 stored elements in Compressed Sparse Row format>"
     },
     "metadata": {},
     "output_type": "execute_result",
     "execution_count": 50
    }
   ],
   "source": [
    "# The main idea is to consider site_ids as words and sessions\n",
    "# as sentences of words. This way we can use text processing \n",
    "# tools like CountVectorizer and TfidfVectorizer with sessions.\n",
    "idx = train_df.shape[0]\n",
    "data[sites] = data[sites].fillna(0).astype(np.uint16)  # float->int (55.0 -> 55)\n",
    "\n",
    "# for each row combine site_ids into one string separated by space\n",
    "data['words'] = data[sites].astype(np.str).apply(' '.join, axis=1)\n",
    "# fit variable->transform\n",
    "words = CountVectorizer(max_features=50000, ngram_range=(1, 3)).fit_transform(data['words'])\n",
    "# words = TfidfVectorizer(max_features=50000, ngram_range=(1, 3)).fit_transform(data['words'])\n",
    "\n",
    "data.drop(['words'], inplace=True, axis=1)\n",
    "words"
   ],
   "metadata": {
    "collapsed": false,
    "pycharm": {
     "name": "#%%\n",
     "is_executing": false
    }
   }
  },
  {
   "cell_type": "code",
   "execution_count": 51,
   "outputs": [
    {
     "data": {
      "text/plain": "(array([0.83141992, 0.64669747, 0.87991757, 0.96315292, 0.84221721,\n        0.87840646, 0.94475893, 0.85321988, 0.92987618, 0.90752752]),\n 0.8677194063723477)"
     },
     "metadata": {},
     "output_type": "execute_result",
     "execution_count": 51
    }
   ],
   "source": [
    "model = LogisticRegression(random_state=17, solver='liblinear')\n",
    "time_split = TimeSeriesSplit(n_splits=10)\n",
    "X_train = words[:idx]\n",
    "y_train = train_df.target\n",
    "\n",
    "cv_scores = cross_val_score(model, X_train, y_train, cv=time_split, scoring='roc_auc')\n",
    "cv_scores, cv_scores.mean()"
   ],
   "metadata": {
    "collapsed": false,
    "pycharm": {
     "name": "#%%\n",
     "is_executing": false
    }
   }
  },
  {
   "cell_type": "code",
   "execution_count": null,
   "outputs": [],
   "source": [
    "# drop_df = train_df.head(15000).drop(times + ['min', 'max', 'seconds', 'target'], axis=1)\n",
    "# encoded_df = pd.get_dummies(drop_df.astype(str), prefix='', prefix_sep='')\n",
    "# encoded_df['sum'] = encoded_df[list(encoded_df.columns.values)].sum(axis=1)\n",
    "# encoded_df['sum'] = (encoded_df.values == '1').sum(axis=1)\n",
    "# encoded_df['seconds'] = train_df['seconds']\n",
    "# encoded_df['target'] = train_df['target']\n",
    "# encoded_df.head()"
   ],
   "metadata": {
    "collapsed": false,
    "pycharm": {
     "name": "#%%\n"
    }
   }
  },
  {
   "cell_type": "code",
   "execution_count": 47,
   "metadata": {
    "pycharm": {
     "is_executing": false,
     "name": "#%%\n"
    }
   },
   "outputs": [],
   "source": [
    "# features = list(encoded_df.columns.values)\n",
    "# X = encoded_df[features[:-1]]  # Features\n",
    "# y = encoded_df['target']                   # Target variable\n",
    "# \n",
    "# X_train, X_test, y_train, y_test = train_test_split(\n",
    "#     X, y, test_size=0.2,\n",
    "#     random_state=17\n",
    "# )\n",
    "# decision_tree = DecisionTreeClassifier(max_features=1000, max_depth=10)\n",
    "# decision_tree.fit(X_train, y_train)\n",
    "# tree_predicted_y = decision_tree.predict(X_test)\n",
    "# logit_roc_auc = roc_auc_score(y_test, tree_predicted_y)\n",
    "# \n",
    "# print(f\"ROC AUC {logit_roc_auc}\")\n",
    "#                   Predicted negative   Predicted positive\n",
    "# Actual negative   True negative(TN)    False positive(FP)      \n",
    "# Actual positive   False negative(FN)   True positive(TP)\n",
    "# print(f\"Confusion Matrix:\\n{confusion_matrix(y_test, tree_predicted_y)}\\n\")\n",
    "# print(\n",
    "#     f\"Classification Report:\\n{classification_report(y_test, tree_predicted_y)}\"\n",
    "# )"
   ]
  },
  {
   "cell_type": "code",
   "execution_count": 48,
   "outputs": [],
   "source": [
    "\n",
    "# logreg = LogisticRegression(solver='lbfgs',random_state=0)\n",
    "# logreg.fit(X_train, y_train)\n",
    "# reg_predicted_y = logreg.predict(X_test)\n",
    "# logit_roc_auc = roc_auc_score(y_test, reg_predicted_y)\n",
    "# \n",
    "# print(f\"ROC AUC {logit_roc_auc}\")\n",
    "# #                   Predicted negative   Predicted positive\n",
    "# # Actual negative   True negative(TN)    False positive(FP)      \n",
    "# # Actual positive   False negative(FN)   True positive(TP)\n",
    "# print(f\"Confusion Matrix:\\n{confusion_matrix(y_test, reg_predicted_y)}\\n\")\n",
    "# print(f\"Classification Report:\\n{classification_report(y_test, reg_predicted_y)}\")\n",
    "\n",
    "\n"
   ],
   "metadata": {
    "collapsed": false,
    "pycharm": {
     "name": "#%%\n",
     "is_executing": false
    }
   }
  }
 ],
 "metadata": {
  "kernelspec": {
   "display_name": "PyCharm (ODS)",
   "language": "python",
   "name": "pycharm-aae13552"
  },
  "language_info": {
   "codemirror_mode": {
    "name": "ipython",
    "version": 3
   },
   "file_extension": ".py",
   "mimetype": "text/x-python",
   "name": "python",
   "nbconvert_exporter": "python",
   "pygments_lexer": "ipython3",
   "version": "3.8.2"
  },
  "pycharm": {
   "stem_cell": {
    "cell_type": "raw",
    "source": [],
    "metadata": {
     "collapsed": false
    }
   }
  }
 },
 "nbformat": 4,
 "nbformat_minor": 2
}