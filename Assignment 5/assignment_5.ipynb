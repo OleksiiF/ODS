{
 "cells": [
  {
   "cell_type": "code",
   "execution_count": 64,
   "outputs": [],
   "source": [
    "# Question 1. There are 5 jurors in a courtroom. Each of them can correctly\n",
    "# identify the guilt of the defendant with 70% probability, independent of one\n",
    "# another. What is the probability that the jurors will jointly reach the\n",
    "# correct verdict if the final decision is by majority vote?\n",
    "\n",
    "# Options\n",
    "# 70.00%\n",
    "# 83.20%\n",
    "# 83.70%\n",
    "# 87.50%"
   ],
   "metadata": {
    "collapsed": false,
    "pycharm": {
     "name": "#%%\n"
    }
   }
  },
  {
   "cell_type": "code",
   "execution_count": 65,
   "outputs": [
    {
     "data": {
      "text/plain": "   SeriousDlqin2yrs  age  NumberOfTime30-59DaysPastDueNotWorse    DebtRatio  \\\n0                 0   64                                     0     0.249908   \n1                 0   58                                     0  3870.000000   \n2                 0   41                                     0     0.456127   \n3                 0   43                                     0     0.000190   \n4                 1   49                                     0     0.271820   \n\n   NumberOfTimes90DaysLate  NumberOfTime60-89DaysPastDueNotWorse  \\\n0                        0                                     0   \n1                        0                                     0   \n2                        0                                     0   \n3                        0                                     0   \n4                        0                                     0   \n\n   MonthlyIncome  NumberOfDependents  \n0         8158.0                 0.0  \n1            NaN                 0.0  \n2         6666.0                 0.0  \n3        10500.0                 2.0  \n4          400.0                 0.0  ",
      "text/html": "<div>\n<style scoped>\n    .dataframe tbody tr th:only-of-type {\n        vertical-align: middle;\n    }\n\n    .dataframe tbody tr th {\n        vertical-align: top;\n    }\n\n    .dataframe thead th {\n        text-align: right;\n    }\n</style>\n<table border=\"1\" class=\"dataframe\">\n  <thead>\n    <tr style=\"text-align: right;\">\n      <th></th>\n      <th>SeriousDlqin2yrs</th>\n      <th>age</th>\n      <th>NumberOfTime30-59DaysPastDueNotWorse</th>\n      <th>DebtRatio</th>\n      <th>NumberOfTimes90DaysLate</th>\n      <th>NumberOfTime60-89DaysPastDueNotWorse</th>\n      <th>MonthlyIncome</th>\n      <th>NumberOfDependents</th>\n    </tr>\n  </thead>\n  <tbody>\n    <tr>\n      <th>0</th>\n      <td>0</td>\n      <td>64</td>\n      <td>0</td>\n      <td>0.249908</td>\n      <td>0</td>\n      <td>0</td>\n      <td>8158.0</td>\n      <td>0.0</td>\n    </tr>\n    <tr>\n      <th>1</th>\n      <td>0</td>\n      <td>58</td>\n      <td>0</td>\n      <td>3870.000000</td>\n      <td>0</td>\n      <td>0</td>\n      <td>NaN</td>\n      <td>0.0</td>\n    </tr>\n    <tr>\n      <th>2</th>\n      <td>0</td>\n      <td>41</td>\n      <td>0</td>\n      <td>0.456127</td>\n      <td>0</td>\n      <td>0</td>\n      <td>6666.0</td>\n      <td>0.0</td>\n    </tr>\n    <tr>\n      <th>3</th>\n      <td>0</td>\n      <td>43</td>\n      <td>0</td>\n      <td>0.000190</td>\n      <td>0</td>\n      <td>0</td>\n      <td>10500.0</td>\n      <td>2.0</td>\n    </tr>\n    <tr>\n      <th>4</th>\n      <td>1</td>\n      <td>49</td>\n      <td>0</td>\n      <td>0.271820</td>\n      <td>0</td>\n      <td>0</td>\n      <td>400.0</td>\n      <td>0.0</td>\n    </tr>\n  </tbody>\n</table>\n</div>"
     },
     "execution_count": 65,
     "metadata": {},
     "output_type": "execute_result"
    }
   ],
   "source": [
    "# Disable warnings in Anaconda\n",
    "import warnings\n",
    "warnings.filterwarnings('ignore')\n",
    "\n",
    "import numpy as np\n",
    "import pandas as pd\n",
    "%matplotlib inline\n",
    "import matplotlib.pyplot as plt\n",
    "from sklearn.preprocessing import StandardScaler\n",
    "from sklearn.ensemble import RandomForestClassifier\n",
    "import seaborn as sns\n",
    "from sklearn.linear_model import LogisticRegression\n",
    "from sklearn.model_selection import GridSearchCV, StratifiedKFold\n",
    "from sklearn.ensemble import BaggingClassifier\n",
    "from sklearn.model_selection import cross_val_score, RandomizedSearchCV\n",
    "\n",
    "sns.set()\n",
    "\n",
    "from matplotlib import rcParams\n",
    "rcParams['figure.figsize'] = 11, 8\n",
    "\n",
    "# Let's write the function that will replace NaN values with the median for each column.\n",
    "def fill_nan(table):\n",
    "    for col in table.columns:\n",
    "        table[col] = table[col].fillna(table[col].median())\n",
    "        \n",
    "    return table  \n",
    "\n",
    "# Now, read the data:\n",
    "data = pd.read_csv('credit_scoring_sample.csv')\n",
    "data.head()\n",
    "\n",
    "# Feature\t                            Variable type   Value type   Description\n",
    "# age\t                                Input Feature   integer\t     Customer    age\n",
    "# DebtRatio\t                            Input Feature   real\t     Total       monthly loan payments (loan, alimony, etc.) / Total monthly income percentage\n",
    "# NumberOfTime30-59DaysPastDueNotWorse\tInput Feature   integer\t     The number of cases when client has overdue 30-59 days (not worse) on other loans during the last 2 years\n",
    "# NumberOfTimes90DaysLate\t            Input Feature   integer\t     Number of cases when customer had 90+dpd overdue on other credits\n",
    "# NumberOfTime60-89DaysPastDueNotWorse\tInput Feature   integer\t     Number of cased when customer has 60-89dpd (not worse) during the last 2 years\n",
    "# NumberOfDependents\t                Input Feature   integer\t     The number of customer dependents\n",
    "# SeriousDlqin2yrs\t                    Target          binary0/1    Customer hasn't paid the loan debt within 90 days"
   ],
   "metadata": {
    "collapsed": false,
    "pycharm": {
     "name": "#%%\n"
    }
   }
  },
  {
   "cell_type": "code",
   "execution_count": 66,
   "outputs": [
    {
     "data": {
      "text/plain": "SeriousDlqin2yrs                          int64\nage                                       int64\nNumberOfTime30-59DaysPastDueNotWorse      int64\nDebtRatio                               float64\nNumberOfTimes90DaysLate                   int64\nNumberOfTime60-89DaysPastDueNotWorse      int64\nMonthlyIncome                           float64\nNumberOfDependents                      float64\ndtype: object"
     },
     "execution_count": 66,
     "metadata": {},
     "output_type": "execute_result"
    }
   ],
   "source": [
    "data.dtypes"
   ],
   "metadata": {
    "collapsed": false,
    "pycharm": {
     "name": "#%%\n"
    }
   }
  },
  {
   "cell_type": "code",
   "execution_count": 67,
   "outputs": [
    {
     "name": "stdout",
     "output_type": "stream",
     "text": [
      "Distribution of the target:\n"
     ]
    },
    {
     "data": {
      "text/plain": "0    0.777511\n1    0.222489\nName: SeriousDlqin2yrs, dtype: float64"
     },
     "execution_count": 67,
     "metadata": {},
     "output_type": "execute_result"
    },
    {
     "data": {
      "text/plain": "<Figure size 792x576 with 1 Axes>",
      "image/png": "[encoded data removed]"
     },
     "metadata": {},
     "output_type": "display_data"
    }
   ],
   "source": [
    "# Check the class balance:\n",
    "\n",
    "ax = data['SeriousDlqin2yrs'].hist(orientation='horizontal', color='red')\n",
    "ax.set_xlabel(\"number_of_observations\")\n",
    "ax.set_ylabel(\"unique_value\")\n",
    "ax.set_title(\"Target distribution\")\n",
    "\n",
    "print('Distribution of the target:')\n",
    "data['SeriousDlqin2yrs'].value_counts()/data.shape[0]"
   ],
   "metadata": {
    "collapsed": false,
    "pycharm": {
     "name": "#%%\n"
    }
   }
  },
  {
   "cell_type": "code",
   "execution_count": 68,
   "outputs": [
    {
     "data": {
      "text/plain": "['age',\n 'NumberOfTime30-59DaysPastDueNotWorse',\n 'DebtRatio',\n 'NumberOfTimes90DaysLate',\n 'NumberOfTime60-89DaysPastDueNotWorse',\n 'MonthlyIncome',\n 'NumberOfDependents']"
     },
     "execution_count": 68,
     "metadata": {},
     "output_type": "execute_result"
    }
   ],
   "source": [
    "# Separate the input variable names by excluding the target:\n",
    "independent_columns_names = [x for x in data if x != 'SeriousDlqin2yrs']\n",
    "independent_columns_names"
   ],
   "metadata": {
    "collapsed": false,
    "pycharm": {
     "name": "#%%\n"
    }
   }
  },
  {
   "cell_type": "code",
   "execution_count": 69,
   "outputs": [],
   "source": [
    "# Apply the function to replace NaN values:\n",
    "table = fill_nan(data)\n",
    "\n",
    "# Separate the target variable and input features\n",
    "X = table[independent_columns_names]\n",
    "y = table['SeriousDlqin2yrs']"
   ],
   "metadata": {
    "collapsed": false,
    "pycharm": {
     "name": "#%%\n"
    }
   }
  },
  {
   "cell_type": "code",
   "execution_count": 70,
   "outputs": [
    {
     "name": "stdout",
     "output_type": "stream",
     "text": [
      "Mean interval [45.71379414 46.12700479]\n"
     ]
    }
   ],
   "source": [
    "# Question 2. Make an interval estimate of the average age for the customers\n",
    "# who delayed repayment at the 90% confidence level. Use the example from the\n",
    "# article as reference, if needed. Also, use np.random.seed(0) as before. \n",
    "# What is the resulting interval estimate?\n",
    "\n",
    "# Options\n",
    "# 52.59 – 52.86\n",
    "# 45.71 – 46.13 *\n",
    "# 45.68 – 46.17\n",
    "# 52.56 – 52.88\n",
    "\n",
    "def get_bootstrap_samples(data, n_samples):\n",
    "    \"\"\"Generate samples using bootstrapping.\"\"\"\n",
    "    indices = np.random.randint(0, len(data), (n_samples, len(data)))\n",
    "    samples = data[indices]\n",
    "    return samples\n",
    "\n",
    "def stat_intervals(stat, alpha):\n",
    "    \"\"\"Make an interval estimate.\"\"\"\n",
    "    boundaries = np.percentile(stat, [100 * alpha / 2., 100 * (1 - alpha / 2.)])\n",
    "    return boundaries\n",
    "\n",
    "# Save the ages of those who let a delay\n",
    "churn = data[data['SeriousDlqin2yrs'] == 1]['age'].values\n",
    "# Set the random seed for reproducibility\n",
    "np.random.seed(0)\n",
    "# Generate bootstrap samples and calculate the mean for each sample\n",
    "churn_mean_scores = [np.mean(sample) for sample in get_bootstrap_samples(churn, 1000)]\n",
    "# Print the interval estimate for the sample means\n",
    "print(\"Mean interval\", stat_intervals(churn_mean_scores, 0.1))"
   ],
   "metadata": {
    "collapsed": false,
    "pycharm": {
     "name": "#%%\n"
    }
   }
  },
  {
   "cell_type": "code",
   "execution_count": 71,
   "outputs": [
    {
     "data": {
      "text/plain": "LogisticRegression(C=0.001, class_weight='balanced', dual=False,\n                   fit_intercept=True, intercept_scaling=1, l1_ratio=None,\n                   max_iter=100, multi_class='auto', n_jobs=None, penalty='l2',\n                   random_state=5, solver='lbfgs', tol=0.0001, verbose=0,\n                   warm_start=False)"
     },
     "execution_count": 71,
     "metadata": {},
     "output_type": "execute_result"
    }
   ],
   "source": [
    "# Now, we will create a LogisticRegression model and use \n",
    "# class_weight='balanced' to make up for our unbalanced classes.\n",
    "\n",
    "lr = LogisticRegression(random_state=5, class_weight='balanced')\n",
    "# Let's try to find the best regularization coefficient, which is the \n",
    "# coefficient C for logistic regression. Then, we will have an optimal \n",
    "# model that is not overfit and is a good predictor of the target variable.\n",
    "\n",
    "parameters = {'C': (0.0001, 0.001, 0.01, 0.1, 1, 10)}\n",
    "# In order to find the optimal value of C, let's apply stratified 5-fold \n",
    "# validation and look at the ROC AUC against different values of the parameter\n",
    "# C. Use the StratifiedKFold function for this:\n",
    "\n",
    "skf = StratifiedKFold(n_splits=5, shuffle=True, random_state=5)\n",
    "# One of the important metrics of model quality is the Area Under the Curve \n",
    "# (AUC). ROC AUC varies from 0 to 1. The closer ROC AUC is to 1, the better \n",
    "# the quality of the classification model.\n",
    "\n",
    "# Question 3. Perform a Grid Search with the scoring metric \"roc_auc\" for the\n",
    "# parameter C. Which value of the parameter C is optimal?\n",
    "\n",
    "# Options\n",
    "# 0.0001\n",
    "# 0.001  *\n",
    "# 0.01\n",
    "# 0.1\n",
    "# 1\n",
    "# 10\n",
    "\n",
    "grid_search = GridSearchCV(lr, parameters, n_jobs=-1, scoring='roc_auc', cv=skf)\n",
    "grid_search = grid_search.fit(X, y)\n",
    "grid_search.best_estimator_"
   ],
   "metadata": {
    "collapsed": false,
    "pycharm": {
     "name": "#%%\n"
    }
   }
  },
  {
   "cell_type": "code",
   "execution_count": 72,
   "outputs": [
    {
     "data": {
      "text/plain": "0.008137559189742445"
     },
     "execution_count": 72,
     "metadata": {},
     "output_type": "execute_result"
    }
   ],
   "source": [
    "# Question 4. Can we consider the best model stable? The model is stable if \n",
    "# the standard deviation on validation is less than 0.5%. Save the ROC AUC \n",
    "# value of the best model; it will be useful for the following tasks.\n",
    "\n",
    "# Options\n",
    "# Yes\n",
    "# No  *\n",
    "\n",
    "grid_search.cv_results_['std_test_score'][1]"
   ],
   "metadata": {
    "collapsed": false,
    "pycharm": {
     "name": "#%%\n"
    }
   }
  },
  {
   "cell_type": "code",
   "execution_count": 73,
   "outputs": [
    {
     "data": {
      "text/plain": "0.8089120626797153"
     },
     "execution_count": 73,
     "metadata": {},
     "output_type": "execute_result"
    }
   ],
   "source": [
    "grid_search.best_score_"
   ],
   "metadata": {
    "collapsed": false,
    "pycharm": {
     "name": "#%%\n"
    }
   }
  },
  {
   "cell_type": "code",
   "execution_count": 74,
   "outputs": [
    {
     "data": {
      "text/plain": "                                   feat      coef\n1  NumberOfTime30-59DaysPastDueNotWorse  0.723427\n3               NumberOfTimes90DaysLate  0.516788\n4  NumberOfTime60-89DaysPastDueNotWorse  0.193558\n6                    NumberOfDependents  0.101443\n2                             DebtRatio -0.024096\n5                         MonthlyIncome -0.163146\n0                                   age -0.416702",
      "text/html": "<div>\n<style scoped>\n    .dataframe tbody tr th:only-of-type {\n        vertical-align: middle;\n    }\n\n    .dataframe tbody tr th {\n        vertical-align: top;\n    }\n\n    .dataframe thead th {\n        text-align: right;\n    }\n</style>\n<table border=\"1\" class=\"dataframe\">\n  <thead>\n    <tr style=\"text-align: right;\">\n      <th></th>\n      <th>feat</th>\n      <th>coef</th>\n    </tr>\n  </thead>\n  <tbody>\n    <tr>\n      <th>1</th>\n      <td>NumberOfTime30-59DaysPastDueNotWorse</td>\n      <td>0.723427</td>\n    </tr>\n    <tr>\n      <th>3</th>\n      <td>NumberOfTimes90DaysLate</td>\n      <td>0.516788</td>\n    </tr>\n    <tr>\n      <th>4</th>\n      <td>NumberOfTime60-89DaysPastDueNotWorse</td>\n      <td>0.193558</td>\n    </tr>\n    <tr>\n      <th>6</th>\n      <td>NumberOfDependents</td>\n      <td>0.101443</td>\n    </tr>\n    <tr>\n      <th>2</th>\n      <td>DebtRatio</td>\n      <td>-0.024096</td>\n    </tr>\n    <tr>\n      <th>5</th>\n      <td>MonthlyIncome</td>\n      <td>-0.163146</td>\n    </tr>\n    <tr>\n      <th>0</th>\n      <td>age</td>\n      <td>-0.416702</td>\n    </tr>\n  </tbody>\n</table>\n</div>"
     },
     "execution_count": 74,
     "metadata": {},
     "output_type": "execute_result"
    }
   ],
   "source": [
    "# Question 5. Feature importance is defined by the absolute value of its\n",
    "# corresponding coefficient. First, you need to normalize all of the feature\n",
    "# values so that it will be valid to compare them. What is the most important\n",
    "# feature for the best logistic regression model?\n",
    "\n",
    "# Options\n",
    "# age\n",
    "# NumberOfTime30-59DaysPastDueNotWorse  *\n",
    "# DebtRatio\n",
    "# NumberOfTimes90DaysLate\n",
    "# NumberOfTime60-89DaysPastDueNotWorse\n",
    "# MonthlyIncome\n",
    "# NumberOfDependents\n",
    "\n",
    "lr = LogisticRegression(C=0.001, random_state=5, class_weight='balanced')\n",
    "scal = StandardScaler()\n",
    "lr.fit(scal.fit_transform(X), y)\n",
    "\n",
    "pd.DataFrame({\n",
    "    'feat': independent_columns_names,\n",
    "    'coef': lr.coef_.flatten().tolist()}\n",
    ").sort_values(by='coef', ascending=False)"
   ],
   "metadata": {
    "collapsed": false,
    "pycharm": {
     "name": "#%%\n"
    }
   }
  },
  {
   "cell_type": "code",
   "execution_count": 75,
   "outputs": [
    {
     "name": "stdout",
     "output_type": "stream",
     "text": [
      "0.1142637528306527\n"
     ]
    }
   ],
   "source": [
    "# Calculate how much DebtRatio affects our prediction \n",
    "# using the softmax function. What is its value?\n",
    "\n",
    "# Options\n",
    "# 0.38\n",
    "# -0.02\n",
    "# 0.11  *\n",
    "# 0.24\n",
    "\n",
    "print((np.exp(lr.coef_[0]) / np.sum(np.exp(lr.coef_[0])))[2])"
   ],
   "metadata": {
    "collapsed": false,
    "pycharm": {
     "name": "#%%\n"
    }
   }
  },
  {
   "cell_type": "code",
   "execution_count": 76,
   "outputs": [
    {
     "data": {
      "text/plain": "                                   feat      coef\n1  NumberOfTime30-59DaysPastDueNotWorse  0.462333\n3               NumberOfTimes90DaysLate  0.406610\n4  NumberOfTime60-89DaysPastDueNotWorse  0.239780\n6                    NumberOfDependents  0.161204\n2                             DebtRatio -0.000010\n5                         MonthlyIncome -0.000011\n0                                   age -0.013315",
      "text/html": "<div>\n<style scoped>\n    .dataframe tbody tr th:only-of-type {\n        vertical-align: middle;\n    }\n\n    .dataframe tbody tr th {\n        vertical-align: top;\n    }\n\n    .dataframe thead th {\n        text-align: right;\n    }\n</style>\n<table border=\"1\" class=\"dataframe\">\n  <thead>\n    <tr style=\"text-align: right;\">\n      <th></th>\n      <th>feat</th>\n      <th>coef</th>\n    </tr>\n  </thead>\n  <tbody>\n    <tr>\n      <th>1</th>\n      <td>NumberOfTime30-59DaysPastDueNotWorse</td>\n      <td>0.462333</td>\n    </tr>\n    <tr>\n      <th>3</th>\n      <td>NumberOfTimes90DaysLate</td>\n      <td>0.406610</td>\n    </tr>\n    <tr>\n      <th>4</th>\n      <td>NumberOfTime60-89DaysPastDueNotWorse</td>\n      <td>0.239780</td>\n    </tr>\n    <tr>\n      <th>6</th>\n      <td>NumberOfDependents</td>\n      <td>0.161204</td>\n    </tr>\n    <tr>\n      <th>2</th>\n      <td>DebtRatio</td>\n      <td>-0.000010</td>\n    </tr>\n    <tr>\n      <th>5</th>\n      <td>MonthlyIncome</td>\n      <td>-0.000011</td>\n    </tr>\n    <tr>\n      <th>0</th>\n      <td>age</td>\n      <td>-0.013315</td>\n    </tr>\n  </tbody>\n</table>\n</div>"
     },
     "execution_count": 76,
     "metadata": {},
     "output_type": "execute_result"
    }
   ],
   "source": [
    "# Let's see how we can interpret the impact of our features. For this, \n",
    "# recalculate the logistic regression with absolute values, that is without \n",
    "# scaling. Next, modify the customer's age by adding 20 years, keeping the \n",
    "# other features unchanged. How many times will the chance that the customer \n",
    "# will not repay their debt increase? You can find an example \n",
    "# of the theoretical calculation here.\n",
    "\n",
    "# Options\n",
    "# -0.01\n",
    "# 0.70\n",
    "# 8.32\n",
    "# 0.66\n",
    "\n",
    "lr = LogisticRegression(C=0.001, random_state=5, class_weight='balanced')\n",
    "lr.fit(X, y)\n",
    "\n",
    "pd.DataFrame({'feat': independent_columns_names,\n",
    "              'coef': lr.coef_.flatten().tolist()}).sort_values(by='coef', ascending=False)"
   ],
   "metadata": {
    "collapsed": false,
    "pycharm": {
     "name": "#%%\n"
    }
   }
  },
  {
   "cell_type": "code",
   "execution_count": 77,
   "outputs": [],
   "source": [
    "# Initialize Random Forest with 100 trees and balance target classes\n",
    "rf = RandomForestClassifier(\n",
    "    n_estimators=100, n_jobs=-1, random_state=42,\n",
    "    class_weight='balanced'\n",
    ")\n",
    "# We will search for the best parameters among the following values:\n",
    "parameters = {'max_features': [1, 2, 4], 'min_samples_leaf': [3, 5, 7, 9], 'max_depth': [5,10,15]}\n",
    "# Also, we will use the stratified k-fold validation again.\n",
    "# You should still have the skf variable.\n",
    "\n",
    "# Question 8. How much higher is the ROC AUC of the best random forest model than that of the best logistic regression on validation?\n",
    "# Options\n",
    "# 4%\n",
    "# 3%\n",
    "# 2%\n",
    "# 1%\n",
    "\n",
    "# code here"
   ],
   "metadata": {
    "collapsed": false,
    "pycharm": {
     "name": "#%%\n"
    }
   }
  },
  {
   "cell_type": "code",
   "execution_count": 78,
   "outputs": [],
   "source": [
    "# Question 9. What feature has the weakest impact in the Random Forest model?\n",
    "\n",
    "# Options\n",
    "# age\n",
    "# NumberOfTime30-59DaysPastDueNotWorse\n",
    "# DebtRatio\n",
    "# NumberOfTimes90DaysLate\n",
    "# NumberOfTime60-89DaysPastDueNotWorse\n",
    "# MonthlyIncome\n",
    "# NumberOfDependents\n",
    "\n",
    "# code here"
   ],
   "metadata": {
    "collapsed": false,
    "pycharm": {
     "name": "#%%\n"
    }
   }
  },
  {
   "cell_type": "code",
   "execution_count": 79,
   "outputs": [],
   "source": [
    "# Question 10. What is the most significant advantage of using Logistic Regression versus Random Forest for this problem?\n",
    "\n",
    "# Options\n",
    "# Spent less time for model fitting;\n",
    "# Fewer variables to iterate;\n",
    "# Feature interpretability;\n",
    "# Linear properties of the algorithm."
   ],
   "metadata": {
    "collapsed": false,
    "pycharm": {
     "name": "#%%\n"
    }
   }
  },
  {
   "cell_type": "code",
   "execution_count": 80,
   "outputs": [],
   "source": [
    "parameters = {\n",
    "    'max_features': [2, 3, 4], 'max_samples': [0.5, 0.7, 0.9],\n",
    "    'base_estimator__C': [0.0001, 0.001, 0.01, 1, 10, 100]\n",
    "}\n",
    "# Question 11. Fit a bagging classifier with random_state=42.\n",
    "# For the base classifiers, use 100 logistic regressors and use\n",
    "# RandomizedSearchCV instead of GridSearchCV. It will take a lot \n",
    "# of time to iterate over all 54 variants, so set the maximum number of\n",
    "# iterations for RandomizedSearchCV to 20. Don't forgetto set the parameters\n",
    "# cv and random_state=1. What is the best ROC AUC you achieve?\n",
    "\n",
    "# Options\n",
    "# 80.75%\n",
    "# 80.12%\n",
    "# 79.62%\n",
    "# 76.50%\n",
    "\n",
    "# code here"
   ],
   "metadata": {
    "collapsed": false,
    "pycharm": {
     "name": "#%%\n"
    }
   }
  },
  {
   "cell_type": "code",
   "execution_count": 81,
   "outputs": [],
   "source": [
    "# Question 12. Give an interpretation of the best parameters for bagging.\n",
    "# Why are these values of max_features and max_samples the best?\n",
    "\n",
    "# Options\n",
    "# For bagging it's important to use as few features as possible;\n",
    "# Bagging works better on small samples;\n",
    "# Less correlation between single models;\n",
    "# The higher the number of features, the lower the loss of information."
   ],
   "metadata": {
    "collapsed": false,
    "pycharm": {
     "name": "#%%\n"
    }
   }
  }
 ],
 "metadata": {
  "kernelspec": {
   "name": "pycharm-aae13552",
   "language": "python",
   "display_name": "PyCharm (ODS)"
  },
  "language_info": {
   "codemirror_mode": {
    "name": "ipython",
    "version": 3
   },
   "file_extension": ".py",
   "mimetype": "text/x-python",
   "name": "python",
   "nbconvert_exporter": "python",
   "pygments_lexer": "ipython3",
   "version": "3.8.2"
  }
 },
 "nbformat": 4,
 "nbformat_minor": 2
}