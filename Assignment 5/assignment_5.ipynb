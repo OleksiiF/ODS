{
 "cells": [
  {
   "cell_type": "code",
   "execution_count": 2,
   "outputs": [],
   "source": [
    "import warnings\n",
    "warnings.filterwarnings('ignore')\n",
    "\n",
    "import numpy as np\n",
    "import pandas as pd\n",
    "from sklearn.metrics.regression import mean_squared_error\n",
    "from sklearn.preprocessing import StandardScaler\n",
    "from sklearn.model_selection import GridSearchCV\n",
    "from sklearn.model_selection import cross_val_score, train_test_split\n",
    "from sklearn.linear_model import LinearRegression, LassoCV, Lasso\n",
    "from sklearn.ensemble import RandomForestRegressor"
   ],
   "metadata": {
    "collapsed": false,
    "pycharm": {
     "name": "#%%\n",
     "is_executing": false
    }
   }
  },
  {
   "cell_type": "code",
   "execution_count": 3,
   "outputs": [
    {
     "data": {
      "text/plain": "   fixed acidity  volatile acidity  citric acid  residual sugar  chlorides  \\\n0            7.0              0.27         0.36            20.7      0.045   \n1            6.3              0.30         0.34             1.6      0.049   \n2            8.1              0.28         0.40             6.9      0.050   \n3            7.2              0.23         0.32             8.5      0.058   \n4            7.2              0.23         0.32             8.5      0.058   \n\n   free sulfur dioxide  total sulfur dioxide  density    pH  sulphates  \\\n0                 45.0                 170.0   1.0010  3.00       0.45   \n1                 14.0                 132.0   0.9940  3.30       0.49   \n2                 30.0                  97.0   0.9951  3.26       0.44   \n3                 47.0                 186.0   0.9956  3.19       0.40   \n4                 47.0                 186.0   0.9956  3.19       0.40   \n\n   alcohol  quality  \n0      8.8        6  \n1      9.5        6  \n2     10.1        6  \n3      9.9        6  \n4      9.9        6  ",
      "text/html": "<div>\n<style scoped>\n    .dataframe tbody tr th:only-of-type {\n        vertical-align: middle;\n    }\n\n    .dataframe tbody tr th {\n        vertical-align: top;\n    }\n\n    .dataframe thead th {\n        text-align: right;\n    }\n</style>\n<table border=\"1\" class=\"dataframe\">\n  <thead>\n    <tr style=\"text-align: right;\">\n      <th></th>\n      <th>fixed acidity</th>\n      <th>volatile acidity</th>\n      <th>citric acid</th>\n      <th>residual sugar</th>\n      <th>chlorides</th>\n      <th>free sulfur dioxide</th>\n      <th>total sulfur dioxide</th>\n      <th>density</th>\n      <th>pH</th>\n      <th>sulphates</th>\n      <th>alcohol</th>\n      <th>quality</th>\n    </tr>\n  </thead>\n  <tbody>\n    <tr>\n      <th>0</th>\n      <td>7.0</td>\n      <td>0.27</td>\n      <td>0.36</td>\n      <td>20.7</td>\n      <td>0.045</td>\n      <td>45.0</td>\n      <td>170.0</td>\n      <td>1.0010</td>\n      <td>3.00</td>\n      <td>0.45</td>\n      <td>8.8</td>\n      <td>6</td>\n    </tr>\n    <tr>\n      <th>1</th>\n      <td>6.3</td>\n      <td>0.30</td>\n      <td>0.34</td>\n      <td>1.6</td>\n      <td>0.049</td>\n      <td>14.0</td>\n      <td>132.0</td>\n      <td>0.9940</td>\n      <td>3.30</td>\n      <td>0.49</td>\n      <td>9.5</td>\n      <td>6</td>\n    </tr>\n    <tr>\n      <th>2</th>\n      <td>8.1</td>\n      <td>0.28</td>\n      <td>0.40</td>\n      <td>6.9</td>\n      <td>0.050</td>\n      <td>30.0</td>\n      <td>97.0</td>\n      <td>0.9951</td>\n      <td>3.26</td>\n      <td>0.44</td>\n      <td>10.1</td>\n      <td>6</td>\n    </tr>\n    <tr>\n      <th>3</th>\n      <td>7.2</td>\n      <td>0.23</td>\n      <td>0.32</td>\n      <td>8.5</td>\n      <td>0.058</td>\n      <td>47.0</td>\n      <td>186.0</td>\n      <td>0.9956</td>\n      <td>3.19</td>\n      <td>0.40</td>\n      <td>9.9</td>\n      <td>6</td>\n    </tr>\n    <tr>\n      <th>4</th>\n      <td>7.2</td>\n      <td>0.23</td>\n      <td>0.32</td>\n      <td>8.5</td>\n      <td>0.058</td>\n      <td>47.0</td>\n      <td>186.0</td>\n      <td>0.9956</td>\n      <td>3.19</td>\n      <td>0.40</td>\n      <td>9.9</td>\n      <td>6</td>\n    </tr>\n  </tbody>\n</table>\n</div>"
     },
     "metadata": {},
     "output_type": "execute_result",
     "execution_count": 3
    }
   ],
   "source": [
    "data = pd.read_csv('winequality-white.csv', sep=';')\n",
    "data.head()"
   ],
   "metadata": {
    "collapsed": false,
    "pycharm": {
     "name": "#%%\n",
     "is_executing": false
    }
   }
  },
  {
   "cell_type": "code",
   "execution_count": 4,
   "outputs": [
    {
     "name": "stdout",
     "text": [
      "<class 'pandas.core.frame.DataFrame'>\n",
      "RangeIndex: 4898 entries, 0 to 4897\n",
      "Data columns (total 12 columns):\n",
      " #   Column                Non-Null Count  Dtype  \n",
      "---  ------                --------------  -----  \n",
      " 0   fixed acidity         4898 non-null   float64\n",
      " 1   volatile acidity      4898 non-null   float64\n",
      " 2   citric acid           4898 non-null   float64\n",
      " 3   residual sugar        4898 non-null   float64\n",
      " 4   chlorides             4898 non-null   float64\n",
      " 5   free sulfur dioxide   4898 non-null   float64\n",
      " 6   total sulfur dioxide  4898 non-null   float64\n",
      " 7   density               4898 non-null   float64\n",
      " 8   pH                    4898 non-null   float64\n",
      " 9   sulphates             4898 non-null   float64\n",
      " 10  alcohol               4898 non-null   float64\n",
      " 11  quality               4898 non-null   int64  \n",
      "dtypes: float64(11), int64(1)\n",
      "memory usage: 459.3 KB\n"
     ],
     "output_type": "stream"
    }
   ],
   "source": [
    "data.info();"
   ],
   "metadata": {
    "collapsed": false,
    "pycharm": {
     "name": "#%%\n",
     "is_executing": false
    }
   }
  },
  {
   "cell_type": "code",
   "execution_count": 5,
   "outputs": [
    {
     "data": {
      "text/plain": "       fixed acidity  volatile acidity  citric acid  residual sugar  \\\ncount    4898.000000       4898.000000  4898.000000     4898.000000   \nmean        6.854788          0.278241     0.334192        6.391415   \nstd         0.843868          0.100795     0.121020        5.072058   \nmin         3.800000          0.080000     0.000000        0.600000   \n25%         6.300000          0.210000     0.270000        1.700000   \n50%         6.800000          0.260000     0.320000        5.200000   \n75%         7.300000          0.320000     0.390000        9.900000   \nmax        14.200000          1.100000     1.660000       65.800000   \n\n         chlorides  free sulfur dioxide  total sulfur dioxide      density  \\\ncount  4898.000000          4898.000000           4898.000000  4898.000000   \nmean      0.045772            35.308085            138.360657     0.994027   \nstd       0.021848            17.007137             42.498065     0.002991   \nmin       0.009000             2.000000              9.000000     0.987110   \n25%       0.036000            23.000000            108.000000     0.991723   \n50%       0.043000            34.000000            134.000000     0.993740   \n75%       0.050000            46.000000            167.000000     0.996100   \nmax       0.346000           289.000000            440.000000     1.038980   \n\n                pH    sulphates      alcohol      quality  \ncount  4898.000000  4898.000000  4898.000000  4898.000000  \nmean      3.188267     0.489847    10.514267     5.877909  \nstd       0.151001     0.114126     1.230621     0.885639  \nmin       2.720000     0.220000     8.000000     3.000000  \n25%       3.090000     0.410000     9.500000     5.000000  \n50%       3.180000     0.470000    10.400000     6.000000  \n75%       3.280000     0.550000    11.400000     6.000000  \nmax       3.820000     1.080000    14.200000     9.000000  ",
      "text/html": "<div>\n<style scoped>\n    .dataframe tbody tr th:only-of-type {\n        vertical-align: middle;\n    }\n\n    .dataframe tbody tr th {\n        vertical-align: top;\n    }\n\n    .dataframe thead th {\n        text-align: right;\n    }\n</style>\n<table border=\"1\" class=\"dataframe\">\n  <thead>\n    <tr style=\"text-align: right;\">\n      <th></th>\n      <th>fixed acidity</th>\n      <th>volatile acidity</th>\n      <th>citric acid</th>\n      <th>residual sugar</th>\n      <th>chlorides</th>\n      <th>free sulfur dioxide</th>\n      <th>total sulfur dioxide</th>\n      <th>density</th>\n      <th>pH</th>\n      <th>sulphates</th>\n      <th>alcohol</th>\n      <th>quality</th>\n    </tr>\n  </thead>\n  <tbody>\n    <tr>\n      <th>count</th>\n      <td>4898.000000</td>\n      <td>4898.000000</td>\n      <td>4898.000000</td>\n      <td>4898.000000</td>\n      <td>4898.000000</td>\n      <td>4898.000000</td>\n      <td>4898.000000</td>\n      <td>4898.000000</td>\n      <td>4898.000000</td>\n      <td>4898.000000</td>\n      <td>4898.000000</td>\n      <td>4898.000000</td>\n    </tr>\n    <tr>\n      <th>mean</th>\n      <td>6.854788</td>\n      <td>0.278241</td>\n      <td>0.334192</td>\n      <td>6.391415</td>\n      <td>0.045772</td>\n      <td>35.308085</td>\n      <td>138.360657</td>\n      <td>0.994027</td>\n      <td>3.188267</td>\n      <td>0.489847</td>\n      <td>10.514267</td>\n      <td>5.877909</td>\n    </tr>\n    <tr>\n      <th>std</th>\n      <td>0.843868</td>\n      <td>0.100795</td>\n      <td>0.121020</td>\n      <td>5.072058</td>\n      <td>0.021848</td>\n      <td>17.007137</td>\n      <td>42.498065</td>\n      <td>0.002991</td>\n      <td>0.151001</td>\n      <td>0.114126</td>\n      <td>1.230621</td>\n      <td>0.885639</td>\n    </tr>\n    <tr>\n      <th>min</th>\n      <td>3.800000</td>\n      <td>0.080000</td>\n      <td>0.000000</td>\n      <td>0.600000</td>\n      <td>0.009000</td>\n      <td>2.000000</td>\n      <td>9.000000</td>\n      <td>0.987110</td>\n      <td>2.720000</td>\n      <td>0.220000</td>\n      <td>8.000000</td>\n      <td>3.000000</td>\n    </tr>\n    <tr>\n      <th>25%</th>\n      <td>6.300000</td>\n      <td>0.210000</td>\n      <td>0.270000</td>\n      <td>1.700000</td>\n      <td>0.036000</td>\n      <td>23.000000</td>\n      <td>108.000000</td>\n      <td>0.991723</td>\n      <td>3.090000</td>\n      <td>0.410000</td>\n      <td>9.500000</td>\n      <td>5.000000</td>\n    </tr>\n    <tr>\n      <th>50%</th>\n      <td>6.800000</td>\n      <td>0.260000</td>\n      <td>0.320000</td>\n      <td>5.200000</td>\n      <td>0.043000</td>\n      <td>34.000000</td>\n      <td>134.000000</td>\n      <td>0.993740</td>\n      <td>3.180000</td>\n      <td>0.470000</td>\n      <td>10.400000</td>\n      <td>6.000000</td>\n    </tr>\n    <tr>\n      <th>75%</th>\n      <td>7.300000</td>\n      <td>0.320000</td>\n      <td>0.390000</td>\n      <td>9.900000</td>\n      <td>0.050000</td>\n      <td>46.000000</td>\n      <td>167.000000</td>\n      <td>0.996100</td>\n      <td>3.280000</td>\n      <td>0.550000</td>\n      <td>11.400000</td>\n      <td>6.000000</td>\n    </tr>\n    <tr>\n      <th>max</th>\n      <td>14.200000</td>\n      <td>1.100000</td>\n      <td>1.660000</td>\n      <td>65.800000</td>\n      <td>0.346000</td>\n      <td>289.000000</td>\n      <td>440.000000</td>\n      <td>1.038980</td>\n      <td>3.820000</td>\n      <td>1.080000</td>\n      <td>14.200000</td>\n      <td>9.000000</td>\n    </tr>\n  </tbody>\n</table>\n</div>"
     },
     "metadata": {},
     "output_type": "execute_result",
     "execution_count": 5
    }
   ],
   "source": [
    "data.describe()"
   ],
   "metadata": {
    "collapsed": false,
    "pycharm": {
     "name": "#%%\n",
     "is_executing": false
    }
   }
  },
  {
   "cell_type": "code",
   "execution_count": 6,
   "outputs": [],
   "source": [
    "# Separate the target feature, split data in 7:3 proportion\n",
    "# (30% form a holdout set, use random_state=17), and preprocess\n",
    "# data with StandardScaler.\n",
    "\n",
    "# We split data into training and validation parts.\n",
    "target_feature = data['quality']\n",
    "other_features = data.drop('quality', axis=1)  # изымаем целевой признак\n",
    "\n",
    "X_train, X_holdout, y_train, y_holdout = train_test_split(\n",
    "    other_features,\n",
    "    target_feature,\n",
    "    test_size=0.3,\n",
    "    random_state=17\n",
    ")\n",
    "\n",
    "# Идея StandardScaler заключается в том, что он преобразует\n",
    "# (нормализует/стандартизирует) данные таким образом, что его \n",
    "# распределение будет иметь среднее значение(mean) 0 и стандартное отклонение \n",
    "# (standard deviation) 1. Учитывая распределение данных, каждое значение в \n",
    "# наборе данныхбудет вычтено из среднего значения выборки, а затем \n",
    "# разделено по стандартному отклонению всего набора данных.\n",
    "\n",
    "scaler = StandardScaler()\n",
    "X_train_scaled = scaler.fit_transform(X_train)\n",
    "X_holdout_scaled = scaler.transform(X_holdout)"
   ],
   "metadata": {
    "collapsed": false,
    "pycharm": {
     "name": "#%%\n",
     "is_executing": false
    }
   }
  },
  {
   "cell_type": "code",
   "execution_count": 7,
   "outputs": [],
   "source": [
    "# Train a simple linear regression model (Ordinary Least Squares).\n",
    "\n",
    "linreg = LinearRegression()\n",
    "linreg.fit(X_train_scaled, y_train)\n",
    "prediction_holdout_linear = linreg.predict(X_holdout_scaled)\n",
    "prediction_train_linear = linreg.predict(X_train_scaled)"
   ],
   "metadata": {
    "collapsed": false,
    "pycharm": {
     "name": "#%%\n",
     "is_executing": false
    }
   }
  },
  {
   "cell_type": "code",
   "execution_count": 8,
   "outputs": [
    {
     "name": "stdout",
     "text": [
      "Mean squared error 0.558060648980358\n",
      "Mean squared error 0.584247310240454\n"
     ],
     "output_type": "stream"
    }
   ],
   "source": [
    "# What are mean squared errors of model predictions on train and holdout sets?\n",
    "\n",
    "print(f\"\"\"Mean squared error {mean_squared_error(\n",
    "    y_train,\n",
    "    prediction_train_linear\n",
    ")}\"\"\")\n",
    "\n",
    "print(f\"\"\"Mean squared error {mean_squared_error(\n",
    "    y_holdout,\n",
    "    prediction_holdout_linear\n",
    ")}\"\"\")"
   ],
   "metadata": {
    "collapsed": false,
    "pycharm": {
     "name": "#%%\n",
     "is_executing": false
    }
   }
  },
  {
   "cell_type": "code",
   "execution_count": 9,
   "outputs": [
    {
     "data": {
      "text/plain": "                          coef  coef_abs\ndensity              -0.665720  0.665720\nresidual sugar        0.538164  0.538164\nvolatile acidity     -0.192260  0.192260\npH                    0.150036  0.150036\nalcohol               0.129533  0.129533\nfixed acidity         0.097822  0.097822\nsulphates             0.062053  0.062053\nfree sulfur dioxide   0.042180  0.042180\ntotal sulfur dioxide  0.014304  0.014304\nchlorides             0.008127  0.008127\ncitric acid          -0.000183  0.000183",
      "text/html": "<div>\n<style scoped>\n    .dataframe tbody tr th:only-of-type {\n        vertical-align: middle;\n    }\n\n    .dataframe tbody tr th {\n        vertical-align: top;\n    }\n\n    .dataframe thead th {\n        text-align: right;\n    }\n</style>\n<table border=\"1\" class=\"dataframe\">\n  <thead>\n    <tr style=\"text-align: right;\">\n      <th></th>\n      <th>coef</th>\n      <th>coef_abs</th>\n    </tr>\n  </thead>\n  <tbody>\n    <tr>\n      <th>density</th>\n      <td>-0.665720</td>\n      <td>0.665720</td>\n    </tr>\n    <tr>\n      <th>residual sugar</th>\n      <td>0.538164</td>\n      <td>0.538164</td>\n    </tr>\n    <tr>\n      <th>volatile acidity</th>\n      <td>-0.192260</td>\n      <td>0.192260</td>\n    </tr>\n    <tr>\n      <th>pH</th>\n      <td>0.150036</td>\n      <td>0.150036</td>\n    </tr>\n    <tr>\n      <th>alcohol</th>\n      <td>0.129533</td>\n      <td>0.129533</td>\n    </tr>\n    <tr>\n      <th>fixed acidity</th>\n      <td>0.097822</td>\n      <td>0.097822</td>\n    </tr>\n    <tr>\n      <th>sulphates</th>\n      <td>0.062053</td>\n      <td>0.062053</td>\n    </tr>\n    <tr>\n      <th>free sulfur dioxide</th>\n      <td>0.042180</td>\n      <td>0.042180</td>\n    </tr>\n    <tr>\n      <th>total sulfur dioxide</th>\n      <td>0.014304</td>\n      <td>0.014304</td>\n    </tr>\n    <tr>\n      <th>chlorides</th>\n      <td>0.008127</td>\n      <td>0.008127</td>\n    </tr>\n    <tr>\n      <th>citric acid</th>\n      <td>-0.000183</td>\n      <td>0.000183</td>\n    </tr>\n  </tbody>\n</table>\n</div>"
     },
     "metadata": {},
     "output_type": "execute_result",
     "execution_count": 9
    }
   ],
   "source": [
    "# Sort features by their influence on the target feature (wine quality).\n",
    "# Beware that both large positive and large negative coefficients mean\n",
    "# large influence on target. It's handy to use pandas.DataFrame here.\n",
    "\n",
    "# Which feature this linear regression model treats as the \n",
    "# most influential on wine quality?\n",
    "\n",
    "# Еще одно отличие серий от списков — в качестве индексов можно использовать\n",
    "# произвольные значения, это делает данные нагляднее.\n",
    "\n",
    "linreg_coef = pd.DataFrame(\n",
    "    {\n",
    "        'coef': linreg.coef_,   # скорость изменения свойства\n",
    "        'coef_abs': np.abs(linreg.coef_)  \n",
    "    },\n",
    "    index=data.columns.drop('quality')\n",
    ")\n",
    "linreg_coef.sort_values(\n",
    "    by='coef_abs',\n",
    "    ascending=False\n",
    ")"
   ],
   "metadata": {
    "collapsed": false,
    "pycharm": {
     "name": "#%%\n",
     "is_executing": false
    }
   }
  },
  {
   "cell_type": "code",
   "execution_count": 10,
   "outputs": [],
   "source": [
    "# Train a LASSO model with a=0.01 (weak regularization) and\n",
    "# scaled data. Again, set random_state=17.\n",
    "\n",
    "# LASSO(Least Absolute Shrinkage and Selection Operator), L1-регуляризация\n",
    "# Штрафы в ней начисляются лишь за признаки с большим значением коэффициентов.\n",
    "# К тому же лассо может обнулять значения коэффициентов, тем самым полностью \n",
    "# убирая признак из датасета (так как при вычислении результирующей переменной\n",
    "# соответствующий признак будет умножен на ноль).\n",
    "\n",
    "\n",
    "# Here, alpha is the parameter which balances the amount of emphasis given \n",
    "# to minimizing RSS(Residual Sum of Squares) vs minimizing sum of square of coefficients. Alpha can \n",
    "# take various values:\n",
    "# Objective = RSS + alpha * (sum of square of coefficients)\n",
    "\n",
    "# alpha = 0:\n",
    "# The objective becomes same as simple linear regression.\n",
    "# We’ll get the same coefficients as simple linear regression.\n",
    "\n",
    "# alpha = ∞:\n",
    "# The coefficients will be zero. Why? Because of infinite weightage on square\n",
    "# of coefficients, anything less than zero will make the objective infinite.\n",
    "\n",
    "# 0 < alpha < ∞:\n",
    "# The magnitude of alpha will decide the weightage given to different parts of objective.\n",
    "# The coefficients will be somewhere between 0 and ones for simple linear regression.\n",
    "\n",
    "\n",
    "lasso1 = Lasso(alpha=0.01, random_state=17)\n",
    "lasso1.fit(X_train_scaled, y_train)\n",
    "lasso_with_alpha_train = lasso1.predict(X_train_scaled)\n",
    "lasso_with_alpha_test = lasso1.predict(X_holdout_scaled)"
   ],
   "metadata": {
    "collapsed": false,
    "pycharm": {
     "name": "#%%\n",
     "is_executing": false
    }
   }
  },
  {
   "cell_type": "code",
   "execution_count": 11,
   "outputs": [
    {
     "name": "stdout",
     "text": [
      "Mean squared error 0.5637869195669829\n",
      "Mean squared error 0.5736627127525903\n"
     ],
     "output_type": "stream"
    }
   ],
   "source": [
    "print(f\"\"\"Mean squared error {mean_squared_error(\n",
    "    y_train,\n",
    "    lasso_with_alpha_train\n",
    ")}\"\"\")\n",
    "\n",
    "print(f\"\"\"Mean squared error {mean_squared_error(\n",
    "    y_holdout,\n",
    "    lasso_with_alpha_test\n",
    ")}\"\"\")"
   ],
   "metadata": {
    "collapsed": false,
    "pycharm": {
     "name": "#%%\n",
     "is_executing": false
    }
   }
  },
  {
   "cell_type": "code",
   "execution_count": 12,
   "outputs": [
    {
     "data": {
      "text/plain": "                          coef  coef_abs\nalcohol               0.322425  0.322425\nresidual sugar        0.256363  0.256363\ndensity              -0.235492  0.235492\nvolatile acidity     -0.188479  0.188479\npH                    0.067277  0.067277\nfree sulfur dioxide   0.043088  0.043088\nsulphates             0.029722  0.029722\nchlorides            -0.002747  0.002747\nfixed acidity        -0.000000  0.000000\ncitric acid          -0.000000  0.000000\ntotal sulfur dioxide -0.000000  0.000000",
      "text/html": "<div>\n<style scoped>\n    .dataframe tbody tr th:only-of-type {\n        vertical-align: middle;\n    }\n\n    .dataframe tbody tr th {\n        vertical-align: top;\n    }\n\n    .dataframe thead th {\n        text-align: right;\n    }\n</style>\n<table border=\"1\" class=\"dataframe\">\n  <thead>\n    <tr style=\"text-align: right;\">\n      <th></th>\n      <th>coef</th>\n      <th>coef_abs</th>\n    </tr>\n  </thead>\n  <tbody>\n    <tr>\n      <th>alcohol</th>\n      <td>0.322425</td>\n      <td>0.322425</td>\n    </tr>\n    <tr>\n      <th>residual sugar</th>\n      <td>0.256363</td>\n      <td>0.256363</td>\n    </tr>\n    <tr>\n      <th>density</th>\n      <td>-0.235492</td>\n      <td>0.235492</td>\n    </tr>\n    <tr>\n      <th>volatile acidity</th>\n      <td>-0.188479</td>\n      <td>0.188479</td>\n    </tr>\n    <tr>\n      <th>pH</th>\n      <td>0.067277</td>\n      <td>0.067277</td>\n    </tr>\n    <tr>\n      <th>free sulfur dioxide</th>\n      <td>0.043088</td>\n      <td>0.043088</td>\n    </tr>\n    <tr>\n      <th>sulphates</th>\n      <td>0.029722</td>\n      <td>0.029722</td>\n    </tr>\n    <tr>\n      <th>chlorides</th>\n      <td>-0.002747</td>\n      <td>0.002747</td>\n    </tr>\n    <tr>\n      <th>fixed acidity</th>\n      <td>-0.000000</td>\n      <td>0.000000</td>\n    </tr>\n    <tr>\n      <th>citric acid</th>\n      <td>-0.000000</td>\n      <td>0.000000</td>\n    </tr>\n    <tr>\n      <th>total sulfur dioxide</th>\n      <td>-0.000000</td>\n      <td>0.000000</td>\n    </tr>\n  </tbody>\n</table>\n</div>"
     },
     "metadata": {},
     "output_type": "execute_result",
     "execution_count": 12
    }
   ],
   "source": [
    "# Which feature is the least informative in predicting wine quality,\n",
    "# according to this LASSO model?\n",
    "\n",
    "lasso1_coef = pd.DataFrame(\n",
    "    {\n",
    "        'coef': lasso1.coef_,   # скорость изменения свойства\n",
    "        'coef_abs': np.abs(lasso1.coef_)\n",
    "    },\n",
    "    index=data.columns.drop('quality')\n",
    ")\n",
    "lasso1_coef.sort_values(\n",
    "    by='coef_abs',\n",
    "    ascending=False\n",
    ")\n"
   ],
   "metadata": {
    "collapsed": false,
    "pycharm": {
     "name": "#%%\n",
     "is_executing": false
    }
   }
  },
  {
   "cell_type": "code",
   "execution_count": 13,
   "outputs": [
    {
     "data": {
      "text/plain": "0.0002833096101839324"
     },
     "metadata": {},
     "output_type": "execute_result",
     "execution_count": 13
    }
   ],
   "source": [
    "# Train LassoCV with random_state=17 to choose \n",
    "# the best value of alpha in 5-fold cross-validation.\n",
    "\n",
    "# cross-validation/перекрёстная проверка/кросс проверка/скользящий контроль —\n",
    "# метод оценки аналитической модели и её поведения на независимых данных.\n",
    "# При оценке модели имеющиеся в наличии данные разбиваются на k частей.\n",
    "# Затем на k−1 частях данных производится обучение модели, а оставшаяся\n",
    "# часть данных используется для тестирования. Процедура повторяется k раз;\n",
    "# в итоге каждая из k частей данных используется для тестирования.\n",
    "# В результате получается оценка эффективности выбранной модели с наиболее\n",
    "# равномерным использованием имеющихся данных.\n",
    "\n",
    "alphas = np.logspace(-6, 2, 200)\n",
    "\n",
    "lasso_cv = LassoCV(random_state=17, cv=5, alphas=alphas)\n",
    "lasso_cv.fit(X_train_scaled, y_train)\n",
    "lasso_cv.alpha_"
   ],
   "metadata": {
    "collapsed": false,
    "pycharm": {
     "name": "#%%\n",
     "is_executing": false
    }
   }
  },
  {
   "cell_type": "code",
   "execution_count": 14,
   "outputs": [
    {
     "name": "stdout",
     "text": [
      "[1.00000000e-06 1.09698580e-06 1.20337784e-06 1.32008840e-06\n",
      " 1.44811823e-06 1.58856513e-06 1.74263339e-06 1.91164408e-06\n",
      " 2.09704640e-06 2.30043012e-06 2.52353917e-06 2.76828663e-06\n",
      " 3.03677112e-06 3.33129479e-06 3.65438307e-06 4.00880633e-06\n",
      " 4.39760361e-06 4.82410870e-06 5.29197874e-06 5.80522552e-06\n",
      " 6.36824994e-06 6.98587975e-06 7.66341087e-06 8.40665289e-06\n",
      " 9.22197882e-06 1.01163798e-05 1.10975250e-05 1.21738273e-05\n",
      " 1.33545156e-05 1.46497140e-05 1.60705282e-05 1.76291412e-05\n",
      " 1.93389175e-05 2.12145178e-05 2.32720248e-05 2.55290807e-05\n",
      " 2.80050389e-05 3.07211300e-05 3.37006433e-05 3.69691271e-05\n",
      " 4.05546074e-05 4.44878283e-05 4.88025158e-05 5.35356668e-05\n",
      " 5.87278661e-05 6.44236351e-05 7.06718127e-05 7.75259749e-05\n",
      " 8.50448934e-05 9.32930403e-05 1.02341140e-04 1.12266777e-04\n",
      " 1.23155060e-04 1.35099352e-04 1.48202071e-04 1.62575567e-04\n",
      " 1.78343088e-04 1.95639834e-04 2.14614120e-04 2.35428641e-04\n",
      " 2.58261876e-04 2.83309610e-04 3.10786619e-04 3.40928507e-04\n",
      " 3.73993730e-04 4.10265811e-04 4.50055768e-04 4.93704785e-04\n",
      " 5.41587138e-04 5.94113398e-04 6.51733960e-04 7.14942899e-04\n",
      " 7.84282206e-04 8.60346442e-04 9.43787828e-04 1.03532184e-03\n",
      " 1.13573336e-03 1.24588336e-03 1.36671636e-03 1.49926843e-03\n",
      " 1.64467618e-03 1.80418641e-03 1.97916687e-03 2.17111795e-03\n",
      " 2.38168555e-03 2.61267523e-03 2.86606762e-03 3.14403547e-03\n",
      " 3.44896226e-03 3.78346262e-03 4.15040476e-03 4.55293507e-03\n",
      " 4.99450512e-03 5.47890118e-03 6.01027678e-03 6.59318827e-03\n",
      " 7.23263390e-03 7.93409667e-03 8.70359136e-03 9.54771611e-03\n",
      " 1.04737090e-02 1.14895100e-02 1.26038293e-02 1.38262217e-02\n",
      " 1.51671689e-02 1.66381689e-02 1.82518349e-02 2.00220037e-02\n",
      " 2.19638537e-02 2.40940356e-02 2.64308149e-02 2.89942285e-02\n",
      " 3.18062569e-02 3.48910121e-02 3.82749448e-02 4.19870708e-02\n",
      " 4.60592204e-02 5.05263107e-02 5.54266452e-02 6.08022426e-02\n",
      " 6.66991966e-02 7.31680714e-02 8.02643352e-02 8.80488358e-02\n",
      " 9.65883224e-02 1.05956018e-01 1.16232247e-01 1.27505124e-01\n",
      " 1.39871310e-01 1.53436841e-01 1.68318035e-01 1.84642494e-01\n",
      " 2.02550194e-01 2.22194686e-01 2.43744415e-01 2.67384162e-01\n",
      " 2.93316628e-01 3.21764175e-01 3.52970730e-01 3.87203878e-01\n",
      " 4.24757155e-01 4.65952567e-01 5.11143348e-01 5.60716994e-01\n",
      " 6.15098579e-01 6.74754405e-01 7.40196000e-01 8.11984499e-01\n",
      " 8.90735464e-01 9.77124154e-01 1.07189132e+00 1.17584955e+00\n",
      " 1.28989026e+00 1.41499130e+00 1.55222536e+00 1.70276917e+00\n",
      " 1.86791360e+00 2.04907469e+00 2.24780583e+00 2.46581108e+00\n",
      " 2.70495973e+00 2.96730241e+00 3.25508860e+00 3.57078596e+00\n",
      " 3.91710149e+00 4.29700470e+00 4.71375313e+00 5.17092024e+00\n",
      " 5.67242607e+00 6.22257084e+00 6.82607183e+00 7.48810386e+00\n",
      " 8.21434358e+00 9.01101825e+00 9.88495905e+00 1.08436597e+01\n",
      " 1.18953407e+01 1.30490198e+01 1.43145894e+01 1.57029012e+01\n",
      " 1.72258597e+01 1.88965234e+01 2.07292178e+01 2.27396575e+01\n",
      " 2.49450814e+01 2.73644000e+01 3.00183581e+01 3.29297126e+01\n",
      " 3.61234270e+01 3.96268864e+01 4.34701316e+01 4.76861170e+01\n",
      " 5.23109931e+01 5.73844165e+01 6.29498899e+01 6.90551352e+01\n",
      " 7.57525026e+01 8.30994195e+01 9.11588830e+01 1.00000000e+02]\n"
     ],
     "output_type": "stream"
    }
   ],
   "source": [
    "print(alphas)"
   ],
   "metadata": {
    "collapsed": false,
    "pycharm": {
     "name": "#%%\n",
     "is_executing": false
    }
   }
  },
  {
   "cell_type": "code",
   "execution_count": 15,
   "outputs": [
    {
     "data": {
      "text/plain": "                          coef  coef_abs\ndensity              -0.648161  0.648161\nresidual sugar        0.526883  0.526883\nvolatile acidity     -0.192049  0.192049\npH                    0.146549  0.146549\nalcohol               0.137115  0.137115\nfixed acidity         0.093295  0.093295\nsulphates             0.060939  0.060939\nfree sulfur dioxide   0.042698  0.042698\ntotal sulfur dioxide  0.012969  0.012969\nchlorides             0.006933  0.006933\ncitric acid          -0.000000  0.000000",
      "text/html": "<div>\n<style scoped>\n    .dataframe tbody tr th:only-of-type {\n        vertical-align: middle;\n    }\n\n    .dataframe tbody tr th {\n        vertical-align: top;\n    }\n\n    .dataframe thead th {\n        text-align: right;\n    }\n</style>\n<table border=\"1\" class=\"dataframe\">\n  <thead>\n    <tr style=\"text-align: right;\">\n      <th></th>\n      <th>coef</th>\n      <th>coef_abs</th>\n    </tr>\n  </thead>\n  <tbody>\n    <tr>\n      <th>density</th>\n      <td>-0.648161</td>\n      <td>0.648161</td>\n    </tr>\n    <tr>\n      <th>residual sugar</th>\n      <td>0.526883</td>\n      <td>0.526883</td>\n    </tr>\n    <tr>\n      <th>volatile acidity</th>\n      <td>-0.192049</td>\n      <td>0.192049</td>\n    </tr>\n    <tr>\n      <th>pH</th>\n      <td>0.146549</td>\n      <td>0.146549</td>\n    </tr>\n    <tr>\n      <th>alcohol</th>\n      <td>0.137115</td>\n      <td>0.137115</td>\n    </tr>\n    <tr>\n      <th>fixed acidity</th>\n      <td>0.093295</td>\n      <td>0.093295</td>\n    </tr>\n    <tr>\n      <th>sulphates</th>\n      <td>0.060939</td>\n      <td>0.060939</td>\n    </tr>\n    <tr>\n      <th>free sulfur dioxide</th>\n      <td>0.042698</td>\n      <td>0.042698</td>\n    </tr>\n    <tr>\n      <th>total sulfur dioxide</th>\n      <td>0.012969</td>\n      <td>0.012969</td>\n    </tr>\n    <tr>\n      <th>chlorides</th>\n      <td>0.006933</td>\n      <td>0.006933</td>\n    </tr>\n    <tr>\n      <th>citric acid</th>\n      <td>-0.000000</td>\n      <td>0.000000</td>\n    </tr>\n  </tbody>\n</table>\n</div>"
     },
     "metadata": {},
     "output_type": "execute_result",
     "execution_count": 15
    }
   ],
   "source": [
    "# Which feature is the least informative in predicting wine quality,\n",
    "# according to the tuned LASSO model?\n",
    "\n",
    "lasso_cv_coef = pd.DataFrame(\n",
    "    {\n",
    "        'coef': lasso_cv.coef_,  # скорость изменения свойства\n",
    "        'coef_abs': np.abs(lasso_cv.coef_)\n",
    "    },\n",
    "    index=data.columns.drop('quality')\n",
    ")\n",
    "lasso_cv_coef.sort_values(\n",
    "    by='coef_abs',\n",
    "    ascending=False\n",
    ")"
   ],
   "metadata": {
    "collapsed": false,
    "pycharm": {
     "name": "#%%\n",
     "is_executing": false
    }
   }
  },
  {
   "cell_type": "code",
   "execution_count": 27,
   "outputs": [
    {
     "name": "stdout",
     "text": [
      "Index(['fixed acidity', 'volatile acidity', 'citric acid', 'residual sugar',\n",
      "       'chlorides', 'free sulfur dioxide', 'total sulfur dioxide', 'density',\n",
      "       'pH', 'sulphates', 'alcohol'],\n",
      "      dtype='object')\n"
     ],
     "output_type": "stream"
    }
   ],
   "source": [
    "print(lasso_cv_coef.index)"
   ],
   "metadata": {
    "collapsed": false,
    "pycharm": {
     "name": "#%%\n",
     "is_executing": false
    }
   }
  },
  {
   "cell_type": "code",
   "execution_count": 16,
   "outputs": [
    {
     "name": "stdout",
     "text": [
      "Mean squared error 0.5580700141873788\n",
      "Mean squared error 0.5832976077860629\n"
     ],
     "output_type": "stream"
    }
   ],
   "source": [
    "# What are mean squared errors of tuned \n",
    "# LASSO predictions on train and holdout sets?\n",
    "prediction_holdout_lasso = lasso_cv.predict(X_holdout_scaled)\n",
    "prediction_train_lasso = lasso_cv.predict(X_train_scaled)\n",
    "\n",
    "print(f\"\"\"Mean squared error {mean_squared_error(\n",
    "    y_train,\n",
    "    prediction_train_lasso\n",
    ")}\"\"\")\n",
    "\n",
    "print(f\"\"\"Mean squared error {mean_squared_error(\n",
    "    y_holdout,\n",
    "    prediction_holdout_lasso\n",
    ")}\"\"\")"
   ],
   "metadata": {
    "collapsed": false,
    "pycharm": {
     "name": "#%%\n",
     "is_executing": false
    }
   }
  },
  {
   "cell_type": "code",
   "execution_count": 17,
   "outputs": [
    {
     "data": {
      "text/plain": "RandomForestRegressor(bootstrap=True, ccp_alpha=0.0, criterion='mse',\n                      max_depth=None, max_features='auto', max_leaf_nodes=None,\n                      max_samples=None, min_impurity_decrease=0.0,\n                      min_impurity_split=None, min_samples_leaf=1,\n                      min_samples_split=2, min_weight_fraction_leaf=0.0,\n                      n_estimators=100, n_jobs=None, oob_score=False,\n                      random_state=17, verbose=0, warm_start=False)"
     },
     "metadata": {},
     "output_type": "execute_result",
     "execution_count": 17
    }
   ],
   "source": [
    "# Train a Random Forest with out-of-the-box parameters,\n",
    "# setting only random_state to be 17.\n",
    "\n",
    "# RF (random forest) — это множество решающих деревьев. В задаче регрессии\n",
    "# их ответы усредняются, в задаче классификации принимается решение \n",
    "# голосованием по большинству.\n",
    "\n",
    "# Все деревья строятся независимо по следующей схеме:\n",
    "# Выбирается подвыборка обучающей выборки размера samplesize (м.б. с \n",
    "# возвращением) – по ней строится дерево (для каждого дерева — своя \n",
    "# подвыборка).\n",
    "# Для построения каждого расщепления в дереве просматриваем max_features\n",
    "# случайных признаков (для каждого нового расщепления — свои случайные \n",
    "# признаки).\n",
    "# Выбирается наилучший признак и расщепление по нему (по заранее заданному \n",
    "# критерию). Дерево строится, как правило, до исчерпания выборки (пока в \n",
    "# листьях не останутся представители только одного класса), но в современных\n",
    "# реализациях есть параметры, которые ограничивают высоту дерева, число \n",
    "# объектов в листьях и число объектов в подвыборке, при котором проводится расщепление.\n",
    "\n",
    "\n",
    "forest = RandomForestRegressor(random_state=17)\n",
    "forest.fit(X_train_scaled, y_train)"
   ],
   "metadata": {
    "collapsed": false,
    "pycharm": {
     "name": "#%%\n",
     "is_executing": false
    }
   }
  },
  {
   "cell_type": "code",
   "execution_count": 18,
   "outputs": [
    {
     "name": "stdout",
     "text": [
      "Mean squared error 0.05261155192532089\n",
      "Mean squared error 0.4142003732204039\n",
      "Mean squared error 0.37163775510204083\n"
     ],
     "output_type": "stream"
    }
   ],
   "source": [
    "# What are mean squared errors of RF model on the training set, \n",
    "# in cross-validation (cross_val_score with scoring='neg_mean_squared_error'\n",
    "# and other arguments left with default values) and on holdout set?\n",
    "\n",
    "print(f\"\"\"Mean squared error {mean_squared_error(\n",
    "    y_train,\n",
    "    forest.predict(X_train_scaled)\n",
    ")}\"\"\")\n",
    "\n",
    "print(f\"\"\"Mean squared error {np.mean(\n",
    "    np.abs(cross_val_score(\n",
    "        forest,\n",
    "        X_train_scaled,\n",
    "        y_train,\n",
    "        scoring='neg_mean_squared_error'\n",
    "    )\n",
    "))}\"\"\")\n",
    "\n",
    "print(f\"\"\"Mean squared error {mean_squared_error(\n",
    "    y_holdout,\n",
    "    forest.predict(X_holdout_scaled)\n",
    ")}\"\"\")"
   ],
   "metadata": {
    "collapsed": false,
    "pycharm": {
     "name": "#%%\n",
     "is_executing": false
    }
   }
  },
  {
   "cell_type": "code",
   "execution_count": 19,
   "outputs": [
    {
     "name": "stdout",
     "text": [
      "Fitting 5 folds for each of 90 candidates, totalling 450 fits\n"
     ],
     "output_type": "stream"
    },
    {
     "name": "stderr",
     "text": [
      "[Parallel(n_jobs=-1)]: Using backend LokyBackend with 4 concurrent workers.\n",
      "[Parallel(n_jobs=-1)]: Done  42 tasks      | elapsed:   18.2s\n",
      "[Parallel(n_jobs=-1)]: Done 192 tasks      | elapsed:  1.3min\n",
      "[Parallel(n_jobs=-1)]: Done 442 tasks      | elapsed:  2.9min\n",
      "[Parallel(n_jobs=-1)]: Done 450 out of 450 | elapsed:  3.0min finished\n"
     ],
     "output_type": "stream"
    },
    {
     "data": {
      "text/plain": "GridSearchCV(cv=5, error_score=nan,\n             estimator=RandomForestRegressor(bootstrap=True, ccp_alpha=0.0,\n                                             criterion='mse', max_depth=None,\n                                             max_features='auto',\n                                             max_leaf_nodes=None,\n                                             max_samples=None,\n                                             min_impurity_decrease=0.0,\n                                             min_impurity_split=None,\n                                             min_samples_leaf=1,\n                                             min_samples_split=2,\n                                             min_weight_fraction_leaf=0.0,\n                                             n_estimators=100, n_jobs=-1,\n                                             oob_score=False, random_state=17,\n                                             verbose=0, warm_start=False),\n             iid='deprecated', n_jobs=-1,\n             param_grid={'max_depth': [10, 11, 12, 13, 14, 15, 16, 17, 18, 19,\n                                       20, 21, 22, 23, 24],\n                         'max_features': [6, 7, 8, 9, 10, 11]},\n             pre_dispatch='2*n_jobs', refit=True, return_train_score=False,\n             scoring='neg_mean_squared_error', verbose=True)"
     },
     "metadata": {},
     "output_type": "execute_result",
     "execution_count": 19
    }
   ],
   "source": [
    "# Tune the max_features and max_depth hyper-parameters with GridSearchCV and\n",
    "# again check mean cross-validation MSE and MSE on holdout set.\n",
    "\n",
    "# Гиперпараметры\n",
    "forest_params = {\n",
    "    'max_depth': list(range(10, 25)),\n",
    "    'max_features': list(range(6,12))\n",
    "}\n",
    "\n",
    "locally_best_forest = GridSearchCV(\n",
    "    RandomForestRegressor(\n",
    "        n_jobs=-1,\n",
    "        random_state=17\n",
    "    ),\n",
    "    forest_params,\n",
    "    scoring='neg_mean_squared_error',\n",
    "    n_jobs=-1,\n",
    "    cv=5,\n",
    "    verbose=True\n",
    ")\n",
    "locally_best_forest.fit(X_train_scaled, y_train)"
   ],
   "metadata": {
    "collapsed": false,
    "pycharm": {
     "name": "#%%\n",
     "is_executing": false
    }
   }
  },
  {
   "cell_type": "code",
   "execution_count": 20,
   "outputs": [
    {
     "data": {
      "text/plain": "({'max_depth': 21, 'max_features': 6}, -0.3977328819150594)"
     },
     "metadata": {},
     "output_type": "execute_result",
     "execution_count": 20
    }
   ],
   "source": [
    "locally_best_forest.best_params_, locally_best_forest.best_score_"
   ],
   "metadata": {
    "collapsed": false,
    "pycharm": {
     "name": "#%%\n",
     "is_executing": false
    }
   }
  },
  {
   "cell_type": "code",
   "execution_count": 21,
   "outputs": [
    {
     "name": "stdout",
     "text": [
      "Mean squared error 0.39773288191505934\n",
      "Mean squared error 0.36572455603132475\n"
     ],
     "output_type": "stream"
    }
   ],
   "source": [
    "# What are mean squared errors of tuned RF model in cross-validation \n",
    "# (cross_val_score with scoring='neg_mean_squared_error' and other \n",
    "# arguments left with default values) and on holdout set?\n",
    "\n",
    "print(f\"\"\"Mean squared error {np.mean(\n",
    "    np.abs(cross_val_score(\n",
    "        locally_best_forest.best_estimator_,\n",
    "        X_train_scaled,\n",
    "        y_train,\n",
    "        scoring='neg_mean_squared_error'\n",
    "    )\n",
    "))}\"\"\")\n",
    "\n",
    "print(f\"\"\"Mean squared error {mean_squared_error(\n",
    "    y_holdout,\n",
    "    locally_best_forest.predict(X_holdout_scaled)\n",
    ")}\"\"\")"
   ],
   "metadata": {
    "collapsed": false,
    "pycharm": {
     "name": "#%%\n",
     "is_executing": false
    }
   }
  },
  {
   "cell_type": "code",
   "execution_count": 22,
   "outputs": [
    {
     "data": {
      "text/plain": "                          coef\nalcohol               0.206056\nvolatile acidity      0.117578\nfree sulfur dioxide   0.111556\ndensity               0.088549\npH                    0.073659\ntotal sulfur dioxide  0.073640\nchlorides             0.073366\nresidual sugar        0.072072\ncitric acid           0.062601\nfixed acidity         0.061813\nsulphates             0.059111",
      "text/html": "<div>\n<style scoped>\n    .dataframe tbody tr th:only-of-type {\n        vertical-align: middle;\n    }\n\n    .dataframe tbody tr th {\n        vertical-align: top;\n    }\n\n    .dataframe thead th {\n        text-align: right;\n    }\n</style>\n<table border=\"1\" class=\"dataframe\">\n  <thead>\n    <tr style=\"text-align: right;\">\n      <th></th>\n      <th>coef</th>\n    </tr>\n  </thead>\n  <tbody>\n    <tr>\n      <th>alcohol</th>\n      <td>0.206056</td>\n    </tr>\n    <tr>\n      <th>volatile acidity</th>\n      <td>0.117578</td>\n    </tr>\n    <tr>\n      <th>free sulfur dioxide</th>\n      <td>0.111556</td>\n    </tr>\n    <tr>\n      <th>density</th>\n      <td>0.088549</td>\n    </tr>\n    <tr>\n      <th>pH</th>\n      <td>0.073659</td>\n    </tr>\n    <tr>\n      <th>total sulfur dioxide</th>\n      <td>0.073640</td>\n    </tr>\n    <tr>\n      <th>chlorides</th>\n      <td>0.073366</td>\n    </tr>\n    <tr>\n      <th>residual sugar</th>\n      <td>0.072072</td>\n    </tr>\n    <tr>\n      <th>citric acid</th>\n      <td>0.062601</td>\n    </tr>\n    <tr>\n      <th>fixed acidity</th>\n      <td>0.061813</td>\n    </tr>\n    <tr>\n      <th>sulphates</th>\n      <td>0.059111</td>\n    </tr>\n  </tbody>\n</table>\n</div>"
     },
     "metadata": {},
     "output_type": "execute_result",
     "execution_count": 22
    }
   ],
   "source": [
    "# What is the most important feature, according to the Random Forest model?\n",
    "\n",
    "rf_importance = pd.DataFrame(\n",
    "    locally_best_forest.best_estimator_.feature_importances_,\n",
    "    columns=['coef'],\n",
    "    index=data.columns[:-1]\n",
    ") \n",
    "rf_importance.sort_values(by='coef', ascending=False)"
   ],
   "metadata": {
    "collapsed": false,
    "pycharm": {
     "name": "#%%\n",
     "is_executing": false
    }
   }
  },
  {
   "cell_type": "code",
   "execution_count": 25,
   "outputs": [
    {
     "name": "stdout",
     "text": [
      "Index(['fixed acidity', 'volatile acidity', 'citric acid', 'residual sugar',\n",
      "       'chlorides', 'free sulfur dioxide', 'total sulfur dioxide', 'density',\n",
      "       'pH', 'sulphates', 'alcohol'],\n",
      "      dtype='object')\n"
     ],
     "output_type": "stream"
    }
   ],
   "source": [
    "print(rf_importance.index)\n"
   ],
   "metadata": {
    "collapsed": false,
    "pycharm": {
     "name": "#%%\n",
     "is_executing": false
    }
   }
  }
 ],
 "metadata": {
  "kernelspec": {
   "name": "pycharm-aae13552",
   "language": "python",
   "display_name": "PyCharm (ODS)"
  },
  "language_info": {
   "codemirror_mode": {
    "name": "ipython",
    "version": 3
   },
   "file_extension": ".py",
   "mimetype": "text/x-python",
   "name": "python",
   "nbconvert_exporter": "python",
   "pygments_lexer": "ipython3",
   "version": "3.8.2"
  },
  "pycharm": {
   "stem_cell": {
    "cell_type": "raw",
    "source": [],
    "metadata": {
     "collapsed": false
    }
   }
  }
 },
 "nbformat": 4,
 "nbformat_minor": 2
}